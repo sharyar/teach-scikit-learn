{
 "cells": [
  {
   "cell_type": "code",
   "execution_count": 41,
   "id": "amended-aside",
   "metadata": {},
   "outputs": [],
   "source": [
    "import pandas as pd\n",
    "import numpy as np\n",
    "import seaborn as sns\n",
    "import matplotlib.pyplot as plt\n",
    "from IPython import display\n",
    "\n",
    "\n",
    "sns.set(style='ticks', context='talk')\n",
    "plt.style.use(\"dark_background\")"
   ]
  },
  {
   "cell_type": "code",
   "execution_count": 42,
   "outputs": [],
   "source": [
    "# Load Our Data (training set):\n",
    "\n",
    "df_titanic_train = pd.read_csv('titanic_data/train.csv')\n",
    "df_titanic_test = pd.read_csv('titanic_data/test.csv')"
   ],
   "metadata": {
    "collapsed": false,
    "pycharm": {
     "name": "#%%\n"
    }
   }
  },
  {
   "cell_type": "code",
   "execution_count": 43,
   "outputs": [
    {
     "data": {
      "text/plain": "   PassengerId  Survived  Pclass  \\\n0            1         0       3   \n1            2         1       1   \n2            3         1       3   \n3            4         1       1   \n4            5         0       3   \n\n                                                Name     Sex   Age  SibSp  \\\n0                            Braund, Mr. Owen Harris    male  22.0      1   \n1  Cumings, Mrs. John Bradley (Florence Briggs Th...  female  38.0      1   \n2                             Heikkinen, Miss. Laina  female  26.0      0   \n3       Futrelle, Mrs. Jacques Heath (Lily May Peel)  female  35.0      1   \n4                           Allen, Mr. William Henry    male  35.0      0   \n\n   Parch            Ticket     Fare Cabin Embarked  \n0      0         A/5 21171   7.2500   NaN        S  \n1      0          PC 17599  71.2833   C85        C  \n2      0  STON/O2. 3101282   7.9250   NaN        S  \n3      0            113803  53.1000  C123        S  \n4      0            373450   8.0500   NaN        S  ",
      "text/html": "<div>\n<style scoped>\n    .dataframe tbody tr th:only-of-type {\n        vertical-align: middle;\n    }\n\n    .dataframe tbody tr th {\n        vertical-align: top;\n    }\n\n    .dataframe thead th {\n        text-align: right;\n    }\n</style>\n<table border=\"1\" class=\"dataframe\">\n  <thead>\n    <tr style=\"text-align: right;\">\n      <th></th>\n      <th>PassengerId</th>\n      <th>Survived</th>\n      <th>Pclass</th>\n      <th>Name</th>\n      <th>Sex</th>\n      <th>Age</th>\n      <th>SibSp</th>\n      <th>Parch</th>\n      <th>Ticket</th>\n      <th>Fare</th>\n      <th>Cabin</th>\n      <th>Embarked</th>\n    </tr>\n  </thead>\n  <tbody>\n    <tr>\n      <th>0</th>\n      <td>1</td>\n      <td>0</td>\n      <td>3</td>\n      <td>Braund, Mr. Owen Harris</td>\n      <td>male</td>\n      <td>22.0</td>\n      <td>1</td>\n      <td>0</td>\n      <td>A/5 21171</td>\n      <td>7.2500</td>\n      <td>NaN</td>\n      <td>S</td>\n    </tr>\n    <tr>\n      <th>1</th>\n      <td>2</td>\n      <td>1</td>\n      <td>1</td>\n      <td>Cumings, Mrs. John Bradley (Florence Briggs Th...</td>\n      <td>female</td>\n      <td>38.0</td>\n      <td>1</td>\n      <td>0</td>\n      <td>PC 17599</td>\n      <td>71.2833</td>\n      <td>C85</td>\n      <td>C</td>\n    </tr>\n    <tr>\n      <th>2</th>\n      <td>3</td>\n      <td>1</td>\n      <td>3</td>\n      <td>Heikkinen, Miss. Laina</td>\n      <td>female</td>\n      <td>26.0</td>\n      <td>0</td>\n      <td>0</td>\n      <td>STON/O2. 3101282</td>\n      <td>7.9250</td>\n      <td>NaN</td>\n      <td>S</td>\n    </tr>\n    <tr>\n      <th>3</th>\n      <td>4</td>\n      <td>1</td>\n      <td>1</td>\n      <td>Futrelle, Mrs. Jacques Heath (Lily May Peel)</td>\n      <td>female</td>\n      <td>35.0</td>\n      <td>1</td>\n      <td>0</td>\n      <td>113803</td>\n      <td>53.1000</td>\n      <td>C123</td>\n      <td>S</td>\n    </tr>\n    <tr>\n      <th>4</th>\n      <td>5</td>\n      <td>0</td>\n      <td>3</td>\n      <td>Allen, Mr. William Henry</td>\n      <td>male</td>\n      <td>35.0</td>\n      <td>0</td>\n      <td>0</td>\n      <td>373450</td>\n      <td>8.0500</td>\n      <td>NaN</td>\n      <td>S</td>\n    </tr>\n  </tbody>\n</table>\n</div>"
     },
     "execution_count": 43,
     "metadata": {},
     "output_type": "execute_result"
    }
   ],
   "source": [
    "# Lets Look at our dataframe\n",
    "\n",
    "df_titanic_train.head()"
   ],
   "metadata": {
    "collapsed": false,
    "pycharm": {
     "name": "#%%\n"
    }
   }
  },
  {
   "cell_type": "code",
   "source": [
    "# Lets look at our test data fram:\n",
    "df_titanic_test.head()"
   ],
   "metadata": {
    "collapsed": false,
    "pycharm": {
     "name": "#%%df_titanic_test.info()\n"
    }
   },
   "execution_count": 44,
   "outputs": [
    {
     "data": {
      "text/plain": "   PassengerId  Pclass                                          Name     Sex  \\\n0          892       3                              Kelly, Mr. James    male   \n1          893       3              Wilkes, Mrs. James (Ellen Needs)  female   \n2          894       2                     Myles, Mr. Thomas Francis    male   \n3          895       3                              Wirz, Mr. Albert    male   \n4          896       3  Hirvonen, Mrs. Alexander (Helga E Lindqvist)  female   \n\n    Age  SibSp  Parch   Ticket     Fare Cabin Embarked  \n0  34.5      0      0   330911   7.8292   NaN        Q  \n1  47.0      1      0   363272   7.0000   NaN        S  \n2  62.0      0      0   240276   9.6875   NaN        Q  \n3  27.0      0      0   315154   8.6625   NaN        S  \n4  22.0      1      1  3101298  12.2875   NaN        S  ",
      "text/html": "<div>\n<style scoped>\n    .dataframe tbody tr th:only-of-type {\n        vertical-align: middle;\n    }\n\n    .dataframe tbody tr th {\n        vertical-align: top;\n    }\n\n    .dataframe thead th {\n        text-align: right;\n    }\n</style>\n<table border=\"1\" class=\"dataframe\">\n  <thead>\n    <tr style=\"text-align: right;\">\n      <th></th>\n      <th>PassengerId</th>\n      <th>Pclass</th>\n      <th>Name</th>\n      <th>Sex</th>\n      <th>Age</th>\n      <th>SibSp</th>\n      <th>Parch</th>\n      <th>Ticket</th>\n      <th>Fare</th>\n      <th>Cabin</th>\n      <th>Embarked</th>\n    </tr>\n  </thead>\n  <tbody>\n    <tr>\n      <th>0</th>\n      <td>892</td>\n      <td>3</td>\n      <td>Kelly, Mr. James</td>\n      <td>male</td>\n      <td>34.5</td>\n      <td>0</td>\n      <td>0</td>\n      <td>330911</td>\n      <td>7.8292</td>\n      <td>NaN</td>\n      <td>Q</td>\n    </tr>\n    <tr>\n      <th>1</th>\n      <td>893</td>\n      <td>3</td>\n      <td>Wilkes, Mrs. James (Ellen Needs)</td>\n      <td>female</td>\n      <td>47.0</td>\n      <td>1</td>\n      <td>0</td>\n      <td>363272</td>\n      <td>7.0000</td>\n      <td>NaN</td>\n      <td>S</td>\n    </tr>\n    <tr>\n      <th>2</th>\n      <td>894</td>\n      <td>2</td>\n      <td>Myles, Mr. Thomas Francis</td>\n      <td>male</td>\n      <td>62.0</td>\n      <td>0</td>\n      <td>0</td>\n      <td>240276</td>\n      <td>9.6875</td>\n      <td>NaN</td>\n      <td>Q</td>\n    </tr>\n    <tr>\n      <th>3</th>\n      <td>895</td>\n      <td>3</td>\n      <td>Wirz, Mr. Albert</td>\n      <td>male</td>\n      <td>27.0</td>\n      <td>0</td>\n      <td>0</td>\n      <td>315154</td>\n      <td>8.6625</td>\n      <td>NaN</td>\n      <td>S</td>\n    </tr>\n    <tr>\n      <th>4</th>\n      <td>896</td>\n      <td>3</td>\n      <td>Hirvonen, Mrs. Alexander (Helga E Lindqvist)</td>\n      <td>female</td>\n      <td>22.0</td>\n      <td>1</td>\n      <td>1</td>\n      <td>3101298</td>\n      <td>12.2875</td>\n      <td>NaN</td>\n      <td>S</td>\n    </tr>\n  </tbody>\n</table>\n</div>"
     },
     "execution_count": 44,
     "metadata": {},
     "output_type": "execute_result"
    }
   ]
  },
  {
   "cell_type": "code",
   "execution_count": 45,
   "outputs": [],
   "source": [
    "# Our data is split 70% for Training and 30% Testing - These are preset by Kaggle\n",
    "# We can combine them and reshuffle them if we wanted to by:\n",
    "\n",
    "df_titanic = pd.concat([df_titanic_train, df_titanic_test], ignore_index=True)"
   ],
   "metadata": {
    "collapsed": false,
    "pycharm": {
     "name": "#%%\n"
    }
   }
  },
  {
   "cell_type": "code",
   "execution_count": 46,
   "outputs": [
    {
     "data": {
      "text/plain": "   PassengerId  Survived  Pclass  \\\n0            1       0.0       3   \n1            2       1.0       1   \n2            3       1.0       3   \n3            4       1.0       1   \n4            5       0.0       3   \n\n                                                Name     Sex   Age  SibSp  \\\n0                            Braund, Mr. Owen Harris    male  22.0      1   \n1  Cumings, Mrs. John Bradley (Florence Briggs Th...  female  38.0      1   \n2                             Heikkinen, Miss. Laina  female  26.0      0   \n3       Futrelle, Mrs. Jacques Heath (Lily May Peel)  female  35.0      1   \n4                           Allen, Mr. William Henry    male  35.0      0   \n\n   Parch            Ticket     Fare Cabin Embarked  \n0      0         A/5 21171   7.2500   NaN        S  \n1      0          PC 17599  71.2833   C85        C  \n2      0  STON/O2. 3101282   7.9250   NaN        S  \n3      0            113803  53.1000  C123        S  \n4      0            373450   8.0500   NaN        S  ",
      "text/html": "<div>\n<style scoped>\n    .dataframe tbody tr th:only-of-type {\n        vertical-align: middle;\n    }\n\n    .dataframe tbody tr th {\n        vertical-align: top;\n    }\n\n    .dataframe thead th {\n        text-align: right;\n    }\n</style>\n<table border=\"1\" class=\"dataframe\">\n  <thead>\n    <tr style=\"text-align: right;\">\n      <th></th>\n      <th>PassengerId</th>\n      <th>Survived</th>\n      <th>Pclass</th>\n      <th>Name</th>\n      <th>Sex</th>\n      <th>Age</th>\n      <th>SibSp</th>\n      <th>Parch</th>\n      <th>Ticket</th>\n      <th>Fare</th>\n      <th>Cabin</th>\n      <th>Embarked</th>\n    </tr>\n  </thead>\n  <tbody>\n    <tr>\n      <th>0</th>\n      <td>1</td>\n      <td>0.0</td>\n      <td>3</td>\n      <td>Braund, Mr. Owen Harris</td>\n      <td>male</td>\n      <td>22.0</td>\n      <td>1</td>\n      <td>0</td>\n      <td>A/5 21171</td>\n      <td>7.2500</td>\n      <td>NaN</td>\n      <td>S</td>\n    </tr>\n    <tr>\n      <th>1</th>\n      <td>2</td>\n      <td>1.0</td>\n      <td>1</td>\n      <td>Cumings, Mrs. John Bradley (Florence Briggs Th...</td>\n      <td>female</td>\n      <td>38.0</td>\n      <td>1</td>\n      <td>0</td>\n      <td>PC 17599</td>\n      <td>71.2833</td>\n      <td>C85</td>\n      <td>C</td>\n    </tr>\n    <tr>\n      <th>2</th>\n      <td>3</td>\n      <td>1.0</td>\n      <td>3</td>\n      <td>Heikkinen, Miss. Laina</td>\n      <td>female</td>\n      <td>26.0</td>\n      <td>0</td>\n      <td>0</td>\n      <td>STON/O2. 3101282</td>\n      <td>7.9250</td>\n      <td>NaN</td>\n      <td>S</td>\n    </tr>\n    <tr>\n      <th>3</th>\n      <td>4</td>\n      <td>1.0</td>\n      <td>1</td>\n      <td>Futrelle, Mrs. Jacques Heath (Lily May Peel)</td>\n      <td>female</td>\n      <td>35.0</td>\n      <td>1</td>\n      <td>0</td>\n      <td>113803</td>\n      <td>53.1000</td>\n      <td>C123</td>\n      <td>S</td>\n    </tr>\n    <tr>\n      <th>4</th>\n      <td>5</td>\n      <td>0.0</td>\n      <td>3</td>\n      <td>Allen, Mr. William Henry</td>\n      <td>male</td>\n      <td>35.0</td>\n      <td>0</td>\n      <td>0</td>\n      <td>373450</td>\n      <td>8.0500</td>\n      <td>NaN</td>\n      <td>S</td>\n    </tr>\n  </tbody>\n</table>\n</div>"
     },
     "execution_count": 46,
     "metadata": {},
     "output_type": "execute_result"
    }
   ],
   "source": [
    "# Lets look at our combined Data Frame\n",
    "\n",
    "df_titanic.head()"
   ],
   "metadata": {
    "collapsed": false,
    "pycharm": {
     "name": "#%%\n"
    }
   }
  },
  {
   "cell_type": "markdown",
   "source": [
    "### Description of Columns:\n",
    "\n",
    "We have some numerical, and some categorical columns in our data set. Our objective for this ML task\n",
    "is to predict if some of these 'features' can tell us about the survival of one of the passengers.\n",
    "\n",
    "Categorical: Survived, Pclass, Sex and Embarked\n",
    "Numerical: Age, Fare, SibSp, Parch\n",
    "\n",
    "SibSp -> Siblings and spouses on board\n",
    "Parch -> Parents and children on board"
   ],
   "metadata": {
    "collapsed": false
   }
  },
  {
   "cell_type": "code",
   "execution_count": 47,
   "outputs": [
    {
     "name": "stderr",
     "output_type": "stream",
     "text": [
      "/home/sharyarmemon/anaconda3/envs/gesar-linux/lib/python3.8/site-packages/seaborn/_decorators.py:36: FutureWarning: Pass the following variable as a keyword arg: x. From version 0.12, the only valid positional argument will be `data`, and passing other arguments without an explicit keyword will result in an error or misinterpretation.\n",
      "  warnings.warn(\n"
     ]
    },
    {
     "data": {
      "text/plain": "<AxesSubplot:xlabel='Sex', ylabel='count'>"
     },
     "execution_count": 47,
     "metadata": {},
     "output_type": "execute_result"
    },
    {
     "data": {
      "text/plain": "<Figure size 432x288 with 1 Axes>",
      "image/png": "[encoded data removed]"
     },
     "metadata": {},
     "output_type": "display_data"
    }
   ],
   "source": [
    "# How about we get some useful stats about our data set?\n",
    "# We will focus on only the training set since it includes labels!\n",
    "\n",
    "sns.countplot(df_titanic_train['Sex'])"
   ],
   "metadata": {
    "collapsed": false,
    "pycharm": {
     "name": "#%%\n"
    }
   }
  },
  {
   "cell_type": "code",
   "execution_count": 48,
   "outputs": [
    {
     "name": "stderr",
     "output_type": "stream",
     "text": [
      "/home/sharyarmemon/anaconda3/envs/gesar-linux/lib/python3.8/site-packages/seaborn/_decorators.py:36: FutureWarning: Pass the following variable as a keyword arg: x. From version 0.12, the only valid positional argument will be `data`, and passing other arguments without an explicit keyword will result in an error or misinterpretation.\n",
      "  warnings.warn(\n"
     ]
    },
    {
     "data": {
      "text/plain": "<AxesSubplot:xlabel='Survived', ylabel='count'>"
     },
     "execution_count": 48,
     "metadata": {},
     "output_type": "execute_result"
    },
    {
     "data": {
      "text/plain": "<Figure size 432x288 with 1 Axes>",
      "image/png": "[encoded data removed]"
     },
     "metadata": {},
     "output_type": "display_data"
    }
   ],
   "source": [
    "sns.countplot(df_titanic_train['Survived'])"
   ],
   "metadata": {
    "collapsed": false,
    "pycharm": {
     "name": "#%%\n"
    }
   }
  },
  {
   "cell_type": "code",
   "execution_count": 49,
   "outputs": [
    {
     "data": {
      "text/plain": "<AxesSubplot:xlabel='Age', ylabel='Count'>"
     },
     "execution_count": 49,
     "metadata": {},
     "output_type": "execute_result"
    },
    {
     "data": {
      "text/plain": "<Figure size 432x288 with 1 Axes>",
      "image/png": "[encoded data removed]"
     },
     "metadata": {},
     "output_type": "display_data"
    }
   ],
   "source": [
    "# We can see that there seems to be some connection between the gender of the passenger and the survival.\n",
    "\n",
    "sns.histplot(df_titanic_train['Age'])"
   ],
   "metadata": {
    "collapsed": false,
    "pycharm": {
     "name": "#%%\n"
    }
   }
  },
  {
   "cell_type": "markdown",
   "source": [
    "We see that the number of survivors seems very close to the number of female passengers.\n",
    "\n",
    "Let's check if there is some kind of pattern:"
   ],
   "metadata": {
    "collapsed": false
   }
  },
  {
   "cell_type": "code",
   "execution_count": 50,
   "outputs": [
    {
     "name": "stdout",
     "output_type": "stream",
     "text": [
      "Number of Woman On Board: 314\n",
      "Number of Women Who Survived: 233/\n",
      "Woman Survived Ratio: 0.7420382165605095\n",
      "\n",
      "\n",
      "\n",
      "Number of Men On Board: 577\n",
      "Number of Men Who Survived: 109/\n",
      "Woman Survived Ratio: 0.18890814558058924\n",
      "\n",
      "\n",
      "General Survival Rate: 0.3838383838383838\n"
     ]
    }
   ],
   "source": [
    "women_survivors = sum(df_titanic_train.loc[df_titanic_train.Sex == 'female']['Survived'])\n",
    "women_num = len(df_titanic_train.loc[df_titanic_train.Sex == 'female'])\n",
    "\n",
    "man_survivors = sum(df_titanic_train.loc[df_titanic_train.Sex == 'male']['Survived'])\n",
    "man_num = len(df_titanic_train.loc[df_titanic_train.Sex == 'male'])\n",
    "\n",
    "print(f'Number of Woman On Board: {women_num}\\nNumber of Women Who Survived: {women_survivors}/'\n",
    "      f'\\nWoman Survived Ratio: {women_survivors/women_num}\\n\\n\\n')\n",
    "\n",
    "\n",
    "print(f'Number of Men On Board: {man_num}\\nNumber of Men Who Survived: {man_survivors}/'\n",
    "      f'\\nWoman Survived Ratio: {man_survivors/man_num}\\n\\n')\n",
    "\n",
    "print(f'General Survival Rate: {sum(df_titanic_train.Survived)/len(df_titanic_train)}')"
   ],
   "metadata": {
    "collapsed": false,
    "pycharm": {
     "name": "#%%\n"
    }
   }
  },
  {
   "cell_type": "markdown",
   "source": [
    "## Some Patterns:\n",
    "\n",
    "We can already see that about 70% of the woman on the ship survived. This sets up a baseline for us.\n",
    "We can be reasonably certain that if a given passenger was a woman, she was likely to survive. And\n",
    "vice versa for woman.\n",
    "\n",
    "Our machine learning model should atleast be better than this rather simple guess?"
   ],
   "metadata": {
    "collapsed": false,
    "pycharm": {
     "name": "#%% md\n"
    }
   }
  },
  {
   "cell_type": "code",
   "execution_count": 51,
   "outputs": [
    {
     "name": "stdout",
     "output_type": "stream",
     "text": [
      "Info on Training Set:\n",
      "<class 'pandas.core.frame.DataFrame'>\n",
      "RangeIndex: 891 entries, 0 to 890\n",
      "Data columns (total 12 columns):\n",
      " #   Column       Non-Null Count  Dtype  \n",
      "---  ------       --------------  -----  \n",
      " 0   PassengerId  891 non-null    int64  \n",
      " 1   Survived     891 non-null    int64  \n",
      " 2   Pclass       891 non-null    int64  \n",
      " 3   Name         891 non-null    object \n",
      " 4   Sex          891 non-null    object \n",
      " 5   Age          714 non-null    float64\n",
      " 6   SibSp        891 non-null    int64  \n",
      " 7   Parch        891 non-null    int64  \n",
      " 8   Ticket       891 non-null    object \n",
      " 9   Fare         891 non-null    float64\n",
      " 10  Cabin        204 non-null    object \n",
      " 11  Embarked     889 non-null    object \n",
      "dtypes: float64(2), int64(5), object(5)\n",
      "memory usage: 83.7+ KB\n",
      "********************************************************************************\n",
      "Info on Test Set:\n",
      "<class 'pandas.core.frame.DataFrame'>\n",
      "RangeIndex: 418 entries, 0 to 417\n",
      "Data columns (total 11 columns):\n",
      " #   Column       Non-Null Count  Dtype  \n",
      "---  ------       --------------  -----  \n",
      " 0   PassengerId  418 non-null    int64  \n",
      " 1   Pclass       418 non-null    int64  \n",
      " 2   Name         418 non-null    object \n",
      " 3   Sex          418 non-null    object \n",
      " 4   Age          332 non-null    float64\n",
      " 5   SibSp        418 non-null    int64  \n",
      " 6   Parch        418 non-null    int64  \n",
      " 7   Ticket       418 non-null    object \n",
      " 8   Fare         417 non-null    float64\n",
      " 9   Cabin        91 non-null     object \n",
      " 10  Embarked     418 non-null    object \n",
      "dtypes: float64(2), int64(4), object(5)\n",
      "memory usage: 36.0+ KB\n"
     ]
    }
   ],
   "source": [
    "# Now lets figure out, is our data complete and is there missing information?\n",
    "# We will do this for both training and testing data\n",
    "\n",
    "print('Info on Training Set:')\n",
    "df_titanic_train.info()\n",
    "\n",
    "print('*'*80)\n",
    "print('Info on Test Set:')\n",
    "df_titanic_test.info()"
   ],
   "metadata": {
    "collapsed": false,
    "pycharm": {
     "name": "#%%\n"
    }
   }
  },
  {
   "cell_type": "markdown",
   "source": [
    "We can see that we have missing values in a few columns above. Most noticeably in cabin.\n",
    "\n",
    "We also have a few missing values in age.\n",
    "\n",
    "Given what we know about the data set, we can make a few sound assumptions now:\n",
    "1. Ticket should not have any correlation except by random chance to survival.\n",
    "2. PassengerID is simply the default index of the passengers and does not hold meaningful information.\n",
    "3. Names may and or may not be useful. Not 100% certain. We could potentially try to extract titles however\n",
    "that may already be conveyed within the sex column to some extent.\n",
    "4. Cabin column has lots of missing values. Should be dropped and not used to make any predictions.\n",
    "\n",
    "We can choose to do a lot of feature engineering such as some ideas below:\n",
    "\n",
    "* Create age ranges with bins to turn the numerical feature into a categorical one.\n",
    "* Create a fare range feature with bins to turn it into a categorical one as well\n",
    "* Use presence of last names as a feature to see if families or individuals were more likely to survive.\n",
    "\n",
    "I will only be doing the first two here today for time and simplicity's sake.\n"
   ],
   "metadata": {
    "collapsed": false,
    "pycharm": {
     "name": "#%% md\n"
    }
   }
  },
  {
   "cell_type": "code",
   "execution_count": 52,
   "outputs": [],
   "source": [
    "# Lets start by dropping un-needed columns/features:\n",
    "\n",
    "df_titanic_train.drop(['Ticket','Cabin', 'PassengerId'], axis=1, inplace=True)\n",
    "df_titanic_test.drop(['Ticket', 'Cabin', 'PassengerId'], axis=1, inplace=True)\n",
    "df_titanic.drop(['Ticket','Cabin', 'PassengerId'], axis=1, inplace=True)\n",
    "\n"
   ],
   "metadata": {
    "collapsed": false,
    "pycharm": {
     "name": "#%%\n"
    }
   }
  },
  {
   "cell_type": "code",
   "execution_count": 53,
   "outputs": [
    {
     "name": "stdout",
     "output_type": "stream",
     "text": [
      "Information regarding Training Set - Missing Values:\n",
      "Survived      0\n",
      "Pclass        0\n",
      "Name          0\n",
      "Sex           0\n",
      "Age         177\n",
      "SibSp         0\n",
      "Parch         0\n",
      "Fare          0\n",
      "Embarked      2\n",
      "dtype: int64\n",
      "Information regarding Testing Set - Missing Values:\n",
      "Pclass       0\n",
      "Name         0\n",
      "Sex          0\n",
      "Age         86\n",
      "SibSp        0\n",
      "Parch        0\n",
      "Fare         1\n",
      "Embarked     0\n",
      "dtype: int64\n",
      "Information regarding Entire Set - Missing Values:\n",
      "Survived    418\n",
      "Pclass        0\n",
      "Name          0\n",
      "Sex           0\n",
      "Age         263\n",
      "SibSp         0\n",
      "Parch         0\n",
      "Fare          1\n",
      "Embarked      2\n",
      "dtype: int64\n",
      "****************************************\n",
      "Missing values after imputer application - Training Set:\n",
      "\n",
      "Survived    0\n",
      "Pclass      0\n",
      "Name        0\n",
      "Sex         0\n",
      "Age         0\n",
      "SibSp       0\n",
      "Parch       0\n",
      "Fare        0\n",
      "Embarked    0\n",
      "dtype: int64\n",
      "****************************************\n",
      "Missing values after imputer application - Testing Set:\n",
      "\n",
      "Pclass      0\n",
      "Name        0\n",
      "Sex         0\n",
      "Age         0\n",
      "SibSp       0\n",
      "Parch       0\n",
      "Fare        0\n",
      "Embarked    0\n",
      "dtype: int64\n"
     ]
    }
   ],
   "source": [
    "# Lets deal with missing values within our columns first:\n",
    "# How many missing values do we have in each column?\n",
    "print(\"Information regarding Training Set - Missing Values:\")\n",
    "print(df_titanic_train.isnull().sum())\n",
    "\n",
    "print(\"Information regarding Testing Set - Missing Values:\")\n",
    "print(df_titanic_test.isnull().sum())\n",
    "\n",
    "print(\"Information regarding Entire Set - Missing Values:\")\n",
    "print(df_titanic.isnull().sum())\n",
    "print('*'*40)\n",
    "# We can see that we have missing values in three columns: Age,Fare and Embarked.\n",
    "\n",
    "# A sklearn imputer allows us to fill those values based on a preset strategy.\n",
    "# In the case of Embarked, we will use the mode values to fill the missing.\n",
    "# In the case of Age, Fare we will use the median to fill it. Age should be whole numbers...\n",
    "from sklearn.impute import SimpleImputer\n",
    "\n",
    "emb_imp = SimpleImputer(strategy='most_frequent')\n",
    "\n",
    "# Train the imputer on the entire data set:\n",
    "df_titanic[['Embarked']] = emb_imp.fit_transform(df_titanic[['Embarked']])\n",
    "\n",
    "# Update columns in test and training DFs:\n",
    "df_titanic_train[['Embarked']] = emb_imp.transform(df_titanic_train[['Embarked']])\n",
    "df_titanic_test[['Embarked']] = emb_imp.transform(df_titanic_test[['Embarked']])\n",
    "\n",
    "# Train a new imputer for fare and age based on median:\n",
    "age_fare_imputer = SimpleImputer(strategy='median')\n",
    "df_titanic[['Age','Fare']] = age_fare_imputer.fit_transform(df_titanic[['Age','Fare']])\n",
    "\n",
    "df_titanic_train[['Age','Fare']] = age_fare_imputer.transform(df_titanic_train[['Age','Fare']])\n",
    "df_titanic_test[['Age','Fare']] = age_fare_imputer.transform(df_titanic_test[['Age','Fare']])\n",
    "\n",
    "# Sanity check to ensure the values have been updated:\n",
    "print('Missing values after imputer application - Training Set:\\n')\n",
    "print(df_titanic_train.isnull().sum())\n",
    "print('*'*40)\n",
    "print('Missing values after imputer application - Testing Set:\\n')\n",
    "print(df_titanic_test.isnull().sum())\n"
   ],
   "metadata": {
    "collapsed": false,
    "pycharm": {
     "name": "#%%\n"
    }
   }
  },
  {
   "cell_type": "markdown",
   "source": [
    "Now that we have dealt with the missing values, lets encode our features into appropriate formats.\n",
    "\n",
    "### Encoding Features:\n",
    "\n",
    "We also want to convert our categorical features either into a dummy variable encoding,\n",
    "One hot encoding, or ordinal encoding\n",
    "ML algorithms like numbers, not words.\n",
    "\n",
    "For more info about this: https://machinelearningmastery.com/one-hot-encoding-for-categorical-data/"
   ],
   "metadata": {
    "collapsed": false
   }
  },
  {
   "cell_type": "code",
   "execution_count": 54,
   "outputs": [],
   "source": [
    "# Ordinal encoding for sex and embarked. Ordinal encoding turns strings to 0,1,2 etc. This is only useful when you have\n",
    "# a few categorical variable values that keep occurring.\n",
    "from sklearn.preprocessing import OrdinalEncoder\n",
    "\n",
    "emb_sex_ordinal_encoder = OrdinalEncoder()\n",
    "\n",
    "# fit it on the entire data set and transform each set as well.\n",
    "df_titanic[['Sex','Embarked']] = emb_sex_ordinal_encoder.fit_transform(df_titanic[['Sex','Embarked']])\n",
    "df_titanic_test[['Sex','Embarked']] = emb_sex_ordinal_encoder.transform(df_titanic_test[['Sex','Embarked']])\n",
    "df_titanic_train[['Sex','Embarked']] = emb_sex_ordinal_encoder.transform(df_titanic_train[['Sex','Embarked']])"
   ],
   "metadata": {
    "collapsed": false,
    "pycharm": {
     "name": "#%%\n"
    }
   }
  },
  {
   "cell_type": "code",
   "execution_count": 70,
   "outputs": [],
   "source": [
    "# Convert float types to int types where needed:\n",
    "df_titanic_train = df_titanic_train.astype({'Survived':'int32','Sex':'int32','Embarked':'int32', 'Age':'int32'})\n",
    "df_titanic_test = df_titanic_test.astype({'Sex':'int32','Embarked':'int32', 'Age':'int32'})"
   ],
   "metadata": {
    "collapsed": false,
    "pycharm": {
     "name": "#%%\n"
    }
   }
  },
  {
   "cell_type": "markdown",
   "source": [
    "We have now filled in missing values and converted some of our categorical variables into a numerical form.\n",
    "\n",
    "The next step is understanding our data to see if further feature engineering maybe useful?\n",
    "Lets begin with age and fare. Since this is a relatively small data set, it might be useful to group those values\n",
    "into bins that can then be used as categorical variables.\n",
    "\n",
    "The logic behind this is, are certain age groups more likely to survive such as infants vs elderly? Are rich people\n",
    "who may have paid a higher fare more likely to have survived?"
   ],
   "metadata": {
    "collapsed": false,
    "pycharm": {
     "name": "#%% md\n"
    }
   }
  },
  {
   "cell_type": "code",
   "execution_count": 78,
   "outputs": [
    {
     "data": {
      "text/plain": "<Figure size 432x288 with 1 Axes>",
      "image/png": "[encoded data removed]"
     },
     "metadata": {},
     "output_type": "display_data"
    }
   ],
   "source": [
    "# Lets see a distribution of ages in our data set:\n",
    "sns.histplot(df_titanic[['Age']])\n",
    "\n",
    "# Lets divide up the age groups into bins:\n",
    "age_categorical, bins = pd.cut(df_titanic.Age, bins=4, labels=[0,1,2,3], retbins=True)\n"
   ],
   "metadata": {
    "collapsed": false,
    "pycharm": {
     "name": "#%%\n"
    }
   }
  },
  {
   "cell_type": "code",
   "execution_count": 83,
   "outputs": [
    {
     "name": "stdout",
     "output_type": "stream",
     "text": [
      "Categorical Age Counts:\n",
      "1    836\n",
      "0    249\n",
      "2    192\n",
      "3     32\n",
      "Name: Age, dtype: int64\n"
     ]
    }
   ],
   "source": [
    "print(f'Categorical Age Counts:\\n{age_categorical.value_counts()}')\n",
    "\n",
    "# use the bins we created to create new columns in each of the dfs to add a new column:\n",
    "for df in [df_titanic,df_titanic_train,df_titanic_test]:\n",
    "    df[['Cat_Age']] = pd.cut(df.Age, bins=bins, labels=[0,1,2,3])"
   ],
   "metadata": {
    "collapsed": false,
    "pycharm": {
     "name": "#%%\n"
    }
   }
  },
  {
   "cell_type": "code",
   "execution_count": 104,
   "outputs": [
    {
     "name": "stdout",
     "output_type": "stream",
     "text": [
      "              Fare\n",
      "count  1309.000000\n",
      "mean     33.281086\n",
      "std      51.741500\n",
      "min       0.000000\n",
      "25%       7.895800\n",
      "50%      14.454200\n",
      "75%      31.275000\n",
      "max     512.329200\n"
     ]
    },
    {
     "data": {
      "text/plain": "<Figure size 432x288 with 1 Axes>",
      "image/png": "[encoded data removed]"
     },
     "metadata": {},
     "output_type": "display_data"
    }
   ],
   "source": [
    "sns.histplot(df_titanic[['Fare']])\n",
    "print(df_titanic[['Fare']].describe())\n",
    "\n",
    "# We can see that we have a wide range of values when it comes to fares. Lets divide them up into bins but we should\n",
    "# do this with manually defined bins based on quantiles\n",
    "\n",
    "bins_fare = [0.0,8.0, 15.0, 40, 600]\n",
    "\n",
    "for df in [df_titanic, df_titanic_train, df_titanic_test]:\n",
    "    df[['Fare_Cat']] = pd.cut(df.Fare, bins=bins_fare, labels=[0,1,2,3])"
   ],
   "metadata": {
    "collapsed": false,
    "pycharm": {
     "name": "#%%\n"
    }
   }
  },
  {
   "cell_type": "markdown",
   "source": [
    "We are alright for some basic feature engineering now. Lets try some algorithms to see how well they\n",
    "perform. We will use a strategy called Stratified K Fold.\n",
    "\n",
    "Read more on sklearn's website:\n",
    "https://scikit-learn.org/stable/modules/generated/sklearn.model_selection.StratifiedKFold.html\n"
   ],
   "metadata": {
    "collapsed": false,
    "pycharm": {
     "name": "#%% md\n"
    }
   }
  }
 ],
 "metadata": {
  "kernelspec": {
   "name": "pycharm-884818bc",
   "language": "python",
   "display_name": "PyCharm (learn_scikit_project)"
  },
  "language_info": {
   "codemirror_mode": {
    "name": "ipython",
    "version": 3
   },
   "file_extension": ".py",
   "mimetype": "text/x-python",
   "name": "python",
   "nbconvert_exporter": "python",
   "pygments_lexer": "ipython3",
   "version": "3.8.8"
  }
 },
 "nbformat": 4,
 "nbformat_minor": 5
}