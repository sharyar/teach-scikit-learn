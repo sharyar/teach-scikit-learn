{
 "cells": [
  {
   "cell_type": "code",
   "execution_count": 1,
   "id": "solar-blowing",
   "metadata": {},
   "outputs": [],
   "source": [
    "import pandas as pd\n",
    "import numpy as np\n",
    "import seaborn as sns\n",
    "import matplotlib.pyplot as plt\n",
    "\n",
    "from sklearn.preprocessing import OrdinalEncoder\n",
    "from sklearn.impute import SimpleImputer\n",
    "\n",
    "from sklearn.model_selection import cross_val_predict, cross_validate, \\\n",
    "    StratifiedKFold, train_test_split, learning_curve, validation_curve, cross_val_score\n",
    "from sklearn.metrics import accuracy_score, roc_auc_score, roc_curve, classification_report, confusion_matrix, plot_roc_curve, plot_precision_recall_curve\n",
    "\n",
    "from sklearn.linear_model import LogisticRegression, Perceptron\n",
    "from sklearn.ensemble import RandomForestClassifier\n",
    "from sklearn.neighbors import KNeighborsClassifier\n",
    "from sklearn.tree import DecisionTreeClassifier\n",
    "from sklearn.neural_network import MLPClassifier\n",
    "from sklearn.tree import plot_tree\n",
    "\n",
    "import warnings\n",
    "warnings.filterwarnings('ignore')"
   ]
  },
  {
   "cell_type": "code",
   "execution_count": 2,
   "id": "operating-concrete",
   "metadata": {
    "collapsed": false,
    "jupyter": {
     "outputs_hidden": false
    },
    "pycharm": {
     "name": "#%%\n"
    }
   },
   "outputs": [],
   "source": [
    "# Load Our Data (training set):\n",
    "df_titanic_train = pd.read_csv('titanic_data/train.csv')\n",
    "df_titanic_test = pd.read_csv('titanic_data/test.csv')"
   ]
  },
  {
   "cell_type": "markdown",
   "id": "likely-bunny",
   "metadata": {},
   "source": [
    "# Inital Review of Data:\n",
    "\n",
    "1. Review Dataframes\n",
    "2. Check for missing values\n",
    "3. Look for Patterns!"
   ]
  },
  {
   "cell_type": "markdown",
   "id": "expired-extension",
   "metadata": {},
   "source": [
    "## Review Dataframes"
   ]
  },
  {
   "cell_type": "markdown",
   "id": "absolute-omega",
   "metadata": {},
   "source": [
    "## Description of Columns:\n",
    "\n",
    "We have some numerical, and some categorical columns in our data set. Our objective for this ML task\n",
    "is to predict if some of these 'features' can tell us about the survival of one of the passengers.\n",
    "\n",
    "Categorical: Survived, Pclass, Sex and Embarked\n",
    "Numerical: Age, Fare, SibSp, Parch\n",
    "\n",
    "SibSp -> Siblings and spouses on board\n",
    "Parch -> Parents and children on board"
   ]
  },
  {
   "cell_type": "code",
   "execution_count": 3,
   "id": "multiple-amount",
   "metadata": {
    "collapsed": false,
    "jupyter": {
     "outputs_hidden": false
    },
    "pycharm": {
     "name": "#%%\n"
    }
   },
   "outputs": [
    {
     "data": {
      "text/html": [
       "<div>\n",
       "<style scoped>\n",
       "    .dataframe tbody tr th:only-of-type {\n",
       "        vertical-align: middle;\n",
       "    }\n",
       "\n",
       "    .dataframe tbody tr th {\n",
       "        vertical-align: top;\n",
       "    }\n",
       "\n",
       "    .dataframe thead th {\n",
       "        text-align: right;\n",
       "    }\n",
       "</style>\n",
       "<table border=\"1\" class=\"dataframe\">\n",
       "  <thead>\n",
       "    <tr style=\"text-align: right;\">\n",
       "      <th></th>\n",
       "      <th>PassengerId</th>\n",
       "      <th>Survived</th>\n",
       "      <th>Pclass</th>\n",
       "      <th>Name</th>\n",
       "      <th>Sex</th>\n",
       "      <th>Age</th>\n",
       "      <th>SibSp</th>\n",
       "      <th>Parch</th>\n",
       "      <th>Ticket</th>\n",
       "      <th>Fare</th>\n",
       "      <th>Cabin</th>\n",
       "      <th>Embarked</th>\n",
       "    </tr>\n",
       "  </thead>\n",
       "  <tbody>\n",
       "    <tr>\n",
       "      <th>0</th>\n",
       "      <td>1</td>\n",
       "      <td>0</td>\n",
       "      <td>3</td>\n",
       "      <td>Braund, Mr. Owen Harris</td>\n",
       "      <td>male</td>\n",
       "      <td>22.0</td>\n",
       "      <td>1</td>\n",
       "      <td>0</td>\n",
       "      <td>A/5 21171</td>\n",
       "      <td>7.2500</td>\n",
       "      <td>NaN</td>\n",
       "      <td>S</td>\n",
       "    </tr>\n",
       "    <tr>\n",
       "      <th>1</th>\n",
       "      <td>2</td>\n",
       "      <td>1</td>\n",
       "      <td>1</td>\n",
       "      <td>Cumings, Mrs. John Bradley (Florence Briggs Th...</td>\n",
       "      <td>female</td>\n",
       "      <td>38.0</td>\n",
       "      <td>1</td>\n",
       "      <td>0</td>\n",
       "      <td>PC 17599</td>\n",
       "      <td>71.2833</td>\n",
       "      <td>C85</td>\n",
       "      <td>C</td>\n",
       "    </tr>\n",
       "    <tr>\n",
       "      <th>2</th>\n",
       "      <td>3</td>\n",
       "      <td>1</td>\n",
       "      <td>3</td>\n",
       "      <td>Heikkinen, Miss. Laina</td>\n",
       "      <td>female</td>\n",
       "      <td>26.0</td>\n",
       "      <td>0</td>\n",
       "      <td>0</td>\n",
       "      <td>STON/O2. 3101282</td>\n",
       "      <td>7.9250</td>\n",
       "      <td>NaN</td>\n",
       "      <td>S</td>\n",
       "    </tr>\n",
       "    <tr>\n",
       "      <th>3</th>\n",
       "      <td>4</td>\n",
       "      <td>1</td>\n",
       "      <td>1</td>\n",
       "      <td>Futrelle, Mrs. Jacques Heath (Lily May Peel)</td>\n",
       "      <td>female</td>\n",
       "      <td>35.0</td>\n",
       "      <td>1</td>\n",
       "      <td>0</td>\n",
       "      <td>113803</td>\n",
       "      <td>53.1000</td>\n",
       "      <td>C123</td>\n",
       "      <td>S</td>\n",
       "    </tr>\n",
       "    <tr>\n",
       "      <th>4</th>\n",
       "      <td>5</td>\n",
       "      <td>0</td>\n",
       "      <td>3</td>\n",
       "      <td>Allen, Mr. William Henry</td>\n",
       "      <td>male</td>\n",
       "      <td>35.0</td>\n",
       "      <td>0</td>\n",
       "      <td>0</td>\n",
       "      <td>373450</td>\n",
       "      <td>8.0500</td>\n",
       "      <td>NaN</td>\n",
       "      <td>S</td>\n",
       "    </tr>\n",
       "  </tbody>\n",
       "</table>\n",
       "</div>"
      ],
      "text/plain": [
       "   PassengerId  Survived  Pclass  \\\n",
       "0            1         0       3   \n",
       "1            2         1       1   \n",
       "2            3         1       3   \n",
       "3            4         1       1   \n",
       "4            5         0       3   \n",
       "\n",
       "                                                Name     Sex   Age  SibSp  \\\n",
       "0                            Braund, Mr. Owen Harris    male  22.0      1   \n",
       "1  Cumings, Mrs. John Bradley (Florence Briggs Th...  female  38.0      1   \n",
       "2                             Heikkinen, Miss. Laina  female  26.0      0   \n",
       "3       Futrelle, Mrs. Jacques Heath (Lily May Peel)  female  35.0      1   \n",
       "4                           Allen, Mr. William Henry    male  35.0      0   \n",
       "\n",
       "   Parch            Ticket     Fare Cabin Embarked  \n",
       "0      0         A/5 21171   7.2500   NaN        S  \n",
       "1      0          PC 17599  71.2833   C85        C  \n",
       "2      0  STON/O2. 3101282   7.9250   NaN        S  \n",
       "3      0            113803  53.1000  C123        S  \n",
       "4      0            373450   8.0500   NaN        S  "
      ]
     },
     "execution_count": 3,
     "metadata": {},
     "output_type": "execute_result"
    }
   ],
   "source": [
    "# Lets Look at our dataframe\n",
    "df_titanic_train.head()"
   ]
  },
  {
   "cell_type": "code",
   "execution_count": 4,
   "id": "responsible-enzyme",
   "metadata": {
    "collapsed": false,
    "jupyter": {
     "outputs_hidden": false
    },
    "pycharm": {
     "name": "#%%df_titanic_test.info()\n"
    }
   },
   "outputs": [
    {
     "data": {
      "text/html": [
       "<div>\n",
       "<style scoped>\n",
       "    .dataframe tbody tr th:only-of-type {\n",
       "        vertical-align: middle;\n",
       "    }\n",
       "\n",
       "    .dataframe tbody tr th {\n",
       "        vertical-align: top;\n",
       "    }\n",
       "\n",
       "    .dataframe thead th {\n",
       "        text-align: right;\n",
       "    }\n",
       "</style>\n",
       "<table border=\"1\" class=\"dataframe\">\n",
       "  <thead>\n",
       "    <tr style=\"text-align: right;\">\n",
       "      <th></th>\n",
       "      <th>PassengerId</th>\n",
       "      <th>Pclass</th>\n",
       "      <th>Name</th>\n",
       "      <th>Sex</th>\n",
       "      <th>Age</th>\n",
       "      <th>SibSp</th>\n",
       "      <th>Parch</th>\n",
       "      <th>Ticket</th>\n",
       "      <th>Fare</th>\n",
       "      <th>Cabin</th>\n",
       "      <th>Embarked</th>\n",
       "    </tr>\n",
       "  </thead>\n",
       "  <tbody>\n",
       "    <tr>\n",
       "      <th>0</th>\n",
       "      <td>892</td>\n",
       "      <td>3</td>\n",
       "      <td>Kelly, Mr. James</td>\n",
       "      <td>male</td>\n",
       "      <td>34.5</td>\n",
       "      <td>0</td>\n",
       "      <td>0</td>\n",
       "      <td>330911</td>\n",
       "      <td>7.8292</td>\n",
       "      <td>NaN</td>\n",
       "      <td>Q</td>\n",
       "    </tr>\n",
       "    <tr>\n",
       "      <th>1</th>\n",
       "      <td>893</td>\n",
       "      <td>3</td>\n",
       "      <td>Wilkes, Mrs. James (Ellen Needs)</td>\n",
       "      <td>female</td>\n",
       "      <td>47.0</td>\n",
       "      <td>1</td>\n",
       "      <td>0</td>\n",
       "      <td>363272</td>\n",
       "      <td>7.0000</td>\n",
       "      <td>NaN</td>\n",
       "      <td>S</td>\n",
       "    </tr>\n",
       "    <tr>\n",
       "      <th>2</th>\n",
       "      <td>894</td>\n",
       "      <td>2</td>\n",
       "      <td>Myles, Mr. Thomas Francis</td>\n",
       "      <td>male</td>\n",
       "      <td>62.0</td>\n",
       "      <td>0</td>\n",
       "      <td>0</td>\n",
       "      <td>240276</td>\n",
       "      <td>9.6875</td>\n",
       "      <td>NaN</td>\n",
       "      <td>Q</td>\n",
       "    </tr>\n",
       "    <tr>\n",
       "      <th>3</th>\n",
       "      <td>895</td>\n",
       "      <td>3</td>\n",
       "      <td>Wirz, Mr. Albert</td>\n",
       "      <td>male</td>\n",
       "      <td>27.0</td>\n",
       "      <td>0</td>\n",
       "      <td>0</td>\n",
       "      <td>315154</td>\n",
       "      <td>8.6625</td>\n",
       "      <td>NaN</td>\n",
       "      <td>S</td>\n",
       "    </tr>\n",
       "    <tr>\n",
       "      <th>4</th>\n",
       "      <td>896</td>\n",
       "      <td>3</td>\n",
       "      <td>Hirvonen, Mrs. Alexander (Helga E Lindqvist)</td>\n",
       "      <td>female</td>\n",
       "      <td>22.0</td>\n",
       "      <td>1</td>\n",
       "      <td>1</td>\n",
       "      <td>3101298</td>\n",
       "      <td>12.2875</td>\n",
       "      <td>NaN</td>\n",
       "      <td>S</td>\n",
       "    </tr>\n",
       "  </tbody>\n",
       "</table>\n",
       "</div>"
      ],
      "text/plain": [
       "   PassengerId  Pclass                                          Name     Sex  \\\n",
       "0          892       3                              Kelly, Mr. James    male   \n",
       "1          893       3              Wilkes, Mrs. James (Ellen Needs)  female   \n",
       "2          894       2                     Myles, Mr. Thomas Francis    male   \n",
       "3          895       3                              Wirz, Mr. Albert    male   \n",
       "4          896       3  Hirvonen, Mrs. Alexander (Helga E Lindqvist)  female   \n",
       "\n",
       "    Age  SibSp  Parch   Ticket     Fare Cabin Embarked  \n",
       "0  34.5      0      0   330911   7.8292   NaN        Q  \n",
       "1  47.0      1      0   363272   7.0000   NaN        S  \n",
       "2  62.0      0      0   240276   9.6875   NaN        Q  \n",
       "3  27.0      0      0   315154   8.6625   NaN        S  \n",
       "4  22.0      1      1  3101298  12.2875   NaN        S  "
      ]
     },
     "execution_count": 4,
     "metadata": {},
     "output_type": "execute_result"
    }
   ],
   "source": [
    "# Lets look at our test data fram:\n",
    "df_titanic_test.head()"
   ]
  },
  {
   "cell_type": "code",
   "execution_count": 5,
   "id": "accomplished-function",
   "metadata": {
    "collapsed": false,
    "jupyter": {
     "outputs_hidden": false
    },
    "pycharm": {
     "name": "#%%\n"
    }
   },
   "outputs": [],
   "source": [
    "# Our data is split 70% for Training and 30% Testing - These are preset by Kaggle\n",
    "# We can combine them and reshuffle them if we wanted to by:\n",
    "df_titanic = pd.concat([df_titanic_train, df_titanic_test], ignore_index=True)"
   ]
  },
  {
   "cell_type": "code",
   "execution_count": 9,
   "id": "dramatic-extraction",
   "metadata": {
    "collapsed": false,
    "jupyter": {
     "outputs_hidden": false
    },
    "pycharm": {
     "name": "#%%\n"
    }
   },
   "outputs": [
    {
     "data": {
      "text/html": [
       "<div>\n",
       "<style scoped>\n",
       "    .dataframe tbody tr th:only-of-type {\n",
       "        vertical-align: middle;\n",
       "    }\n",
       "\n",
       "    .dataframe tbody tr th {\n",
       "        vertical-align: top;\n",
       "    }\n",
       "\n",
       "    .dataframe thead th {\n",
       "        text-align: right;\n",
       "    }\n",
       "</style>\n",
       "<table border=\"1\" class=\"dataframe\">\n",
       "  <thead>\n",
       "    <tr style=\"text-align: right;\">\n",
       "      <th></th>\n",
       "      <th>PassengerId</th>\n",
       "      <th>Pclass</th>\n",
       "      <th>Name</th>\n",
       "      <th>Sex</th>\n",
       "      <th>Age</th>\n",
       "      <th>SibSp</th>\n",
       "      <th>Parch</th>\n",
       "      <th>Ticket</th>\n",
       "      <th>Fare</th>\n",
       "      <th>Cabin</th>\n",
       "      <th>Embarked</th>\n",
       "    </tr>\n",
       "  </thead>\n",
       "  <tbody>\n",
       "    <tr>\n",
       "      <th>0</th>\n",
       "      <td>892</td>\n",
       "      <td>3</td>\n",
       "      <td>Kelly, Mr. James</td>\n",
       "      <td>male</td>\n",
       "      <td>34.5</td>\n",
       "      <td>0</td>\n",
       "      <td>0</td>\n",
       "      <td>330911</td>\n",
       "      <td>7.8292</td>\n",
       "      <td>NaN</td>\n",
       "      <td>Q</td>\n",
       "    </tr>\n",
       "    <tr>\n",
       "      <th>1</th>\n",
       "      <td>893</td>\n",
       "      <td>3</td>\n",
       "      <td>Wilkes, Mrs. James (Ellen Needs)</td>\n",
       "      <td>female</td>\n",
       "      <td>47.0</td>\n",
       "      <td>1</td>\n",
       "      <td>0</td>\n",
       "      <td>363272</td>\n",
       "      <td>7.0000</td>\n",
       "      <td>NaN</td>\n",
       "      <td>S</td>\n",
       "    </tr>\n",
       "    <tr>\n",
       "      <th>2</th>\n",
       "      <td>894</td>\n",
       "      <td>2</td>\n",
       "      <td>Myles, Mr. Thomas Francis</td>\n",
       "      <td>male</td>\n",
       "      <td>62.0</td>\n",
       "      <td>0</td>\n",
       "      <td>0</td>\n",
       "      <td>240276</td>\n",
       "      <td>9.6875</td>\n",
       "      <td>NaN</td>\n",
       "      <td>Q</td>\n",
       "    </tr>\n",
       "    <tr>\n",
       "      <th>3</th>\n",
       "      <td>895</td>\n",
       "      <td>3</td>\n",
       "      <td>Wirz, Mr. Albert</td>\n",
       "      <td>male</td>\n",
       "      <td>27.0</td>\n",
       "      <td>0</td>\n",
       "      <td>0</td>\n",
       "      <td>315154</td>\n",
       "      <td>8.6625</td>\n",
       "      <td>NaN</td>\n",
       "      <td>S</td>\n",
       "    </tr>\n",
       "    <tr>\n",
       "      <th>4</th>\n",
       "      <td>896</td>\n",
       "      <td>3</td>\n",
       "      <td>Hirvonen, Mrs. Alexander (Helga E Lindqvist)</td>\n",
       "      <td>female</td>\n",
       "      <td>22.0</td>\n",
       "      <td>1</td>\n",
       "      <td>1</td>\n",
       "      <td>3101298</td>\n",
       "      <td>12.2875</td>\n",
       "      <td>NaN</td>\n",
       "      <td>S</td>\n",
       "    </tr>\n",
       "    <tr>\n",
       "      <th>...</th>\n",
       "      <td>...</td>\n",
       "      <td>...</td>\n",
       "      <td>...</td>\n",
       "      <td>...</td>\n",
       "      <td>...</td>\n",
       "      <td>...</td>\n",
       "      <td>...</td>\n",
       "      <td>...</td>\n",
       "      <td>...</td>\n",
       "      <td>...</td>\n",
       "      <td>...</td>\n",
       "    </tr>\n",
       "    <tr>\n",
       "      <th>413</th>\n",
       "      <td>1305</td>\n",
       "      <td>3</td>\n",
       "      <td>Spector, Mr. Woolf</td>\n",
       "      <td>male</td>\n",
       "      <td>NaN</td>\n",
       "      <td>0</td>\n",
       "      <td>0</td>\n",
       "      <td>A.5. 3236</td>\n",
       "      <td>8.0500</td>\n",
       "      <td>NaN</td>\n",
       "      <td>S</td>\n",
       "    </tr>\n",
       "    <tr>\n",
       "      <th>414</th>\n",
       "      <td>1306</td>\n",
       "      <td>1</td>\n",
       "      <td>Oliva y Ocana, Dona. Fermina</td>\n",
       "      <td>female</td>\n",
       "      <td>39.0</td>\n",
       "      <td>0</td>\n",
       "      <td>0</td>\n",
       "      <td>PC 17758</td>\n",
       "      <td>108.9000</td>\n",
       "      <td>C105</td>\n",
       "      <td>C</td>\n",
       "    </tr>\n",
       "    <tr>\n",
       "      <th>415</th>\n",
       "      <td>1307</td>\n",
       "      <td>3</td>\n",
       "      <td>Saether, Mr. Simon Sivertsen</td>\n",
       "      <td>male</td>\n",
       "      <td>38.5</td>\n",
       "      <td>0</td>\n",
       "      <td>0</td>\n",
       "      <td>SOTON/O.Q. 3101262</td>\n",
       "      <td>7.2500</td>\n",
       "      <td>NaN</td>\n",
       "      <td>S</td>\n",
       "    </tr>\n",
       "    <tr>\n",
       "      <th>416</th>\n",
       "      <td>1308</td>\n",
       "      <td>3</td>\n",
       "      <td>Ware, Mr. Frederick</td>\n",
       "      <td>male</td>\n",
       "      <td>NaN</td>\n",
       "      <td>0</td>\n",
       "      <td>0</td>\n",
       "      <td>359309</td>\n",
       "      <td>8.0500</td>\n",
       "      <td>NaN</td>\n",
       "      <td>S</td>\n",
       "    </tr>\n",
       "    <tr>\n",
       "      <th>417</th>\n",
       "      <td>1309</td>\n",
       "      <td>3</td>\n",
       "      <td>Peter, Master. Michael J</td>\n",
       "      <td>male</td>\n",
       "      <td>NaN</td>\n",
       "      <td>1</td>\n",
       "      <td>1</td>\n",
       "      <td>2668</td>\n",
       "      <td>22.3583</td>\n",
       "      <td>NaN</td>\n",
       "      <td>C</td>\n",
       "    </tr>\n",
       "  </tbody>\n",
       "</table>\n",
       "<p>418 rows × 11 columns</p>\n",
       "</div>"
      ],
      "text/plain": [
       "     PassengerId  Pclass                                          Name  \\\n",
       "0            892       3                              Kelly, Mr. James   \n",
       "1            893       3              Wilkes, Mrs. James (Ellen Needs)   \n",
       "2            894       2                     Myles, Mr. Thomas Francis   \n",
       "3            895       3                              Wirz, Mr. Albert   \n",
       "4            896       3  Hirvonen, Mrs. Alexander (Helga E Lindqvist)   \n",
       "..           ...     ...                                           ...   \n",
       "413         1305       3                            Spector, Mr. Woolf   \n",
       "414         1306       1                  Oliva y Ocana, Dona. Fermina   \n",
       "415         1307       3                  Saether, Mr. Simon Sivertsen   \n",
       "416         1308       3                           Ware, Mr. Frederick   \n",
       "417         1309       3                      Peter, Master. Michael J   \n",
       "\n",
       "        Sex   Age  SibSp  Parch              Ticket      Fare Cabin Embarked  \n",
       "0      male  34.5      0      0              330911    7.8292   NaN        Q  \n",
       "1    female  47.0      1      0              363272    7.0000   NaN        S  \n",
       "2      male  62.0      0      0              240276    9.6875   NaN        Q  \n",
       "3      male  27.0      0      0              315154    8.6625   NaN        S  \n",
       "4    female  22.0      1      1             3101298   12.2875   NaN        S  \n",
       "..      ...   ...    ...    ...                 ...       ...   ...      ...  \n",
       "413    male   NaN      0      0           A.5. 3236    8.0500   NaN        S  \n",
       "414  female  39.0      0      0            PC 17758  108.9000  C105        C  \n",
       "415    male  38.5      0      0  SOTON/O.Q. 3101262    7.2500   NaN        S  \n",
       "416    male   NaN      0      0              359309    8.0500   NaN        S  \n",
       "417    male   NaN      1      1                2668   22.3583   NaN        C  \n",
       "\n",
       "[418 rows x 11 columns]"
      ]
     },
     "execution_count": 9,
     "metadata": {},
     "output_type": "execute_result"
    }
   ],
   "source": [
    "# Lets look at our combined Data Frame\n",
    "\n",
    "df_titanic_test"
   ]
  },
  {
   "cell_type": "markdown",
   "id": "dedicated-speech",
   "metadata": {},
   "source": [
    "## Missing Values\n",
    "\n",
    "Lets find out if there are missing values in some of our columns!"
   ]
  },
  {
   "cell_type": "code",
   "execution_count": 10,
   "id": "moving-acceptance",
   "metadata": {
    "collapsed": false,
    "jupyter": {
     "outputs_hidden": false
    },
    "pycharm": {
     "name": "#%%\n"
    }
   },
   "outputs": [
    {
     "name": "stdout",
     "output_type": "stream",
     "text": [
      "Info on Training Set:\n",
      "<class 'pandas.core.frame.DataFrame'>\n",
      "RangeIndex: 891 entries, 0 to 890\n",
      "Data columns (total 12 columns):\n",
      " #   Column       Non-Null Count  Dtype  \n",
      "---  ------       --------------  -----  \n",
      " 0   PassengerId  891 non-null    int64  \n",
      " 1   Survived     891 non-null    int64  \n",
      " 2   Pclass       891 non-null    int64  \n",
      " 3   Name         891 non-null    object \n",
      " 4   Sex          891 non-null    object \n",
      " 5   Age          714 non-null    float64\n",
      " 6   SibSp        891 non-null    int64  \n",
      " 7   Parch        891 non-null    int64  \n",
      " 8   Ticket       891 non-null    object \n",
      " 9   Fare         891 non-null    float64\n",
      " 10  Cabin        204 non-null    object \n",
      " 11  Embarked     889 non-null    object \n",
      "dtypes: float64(2), int64(5), object(5)\n",
      "memory usage: 83.7+ KB\n",
      "********************************************************************************\n",
      "Info on Test Set:\n",
      "<class 'pandas.core.frame.DataFrame'>\n",
      "RangeIndex: 418 entries, 0 to 417\n",
      "Data columns (total 11 columns):\n",
      " #   Column       Non-Null Count  Dtype  \n",
      "---  ------       --------------  -----  \n",
      " 0   PassengerId  418 non-null    int64  \n",
      " 1   Pclass       418 non-null    int64  \n",
      " 2   Name         418 non-null    object \n",
      " 3   Sex          418 non-null    object \n",
      " 4   Age          332 non-null    float64\n",
      " 5   SibSp        418 non-null    int64  \n",
      " 6   Parch        418 non-null    int64  \n",
      " 7   Ticket       418 non-null    object \n",
      " 8   Fare         417 non-null    float64\n",
      " 9   Cabin        91 non-null     object \n",
      " 10  Embarked     418 non-null    object \n",
      "dtypes: float64(2), int64(4), object(5)\n",
      "memory usage: 36.0+ KB\n",
      "********************************************************************************\n",
      "Info on Entire Set:\n",
      "<class 'pandas.core.frame.DataFrame'>\n",
      "RangeIndex: 1309 entries, 0 to 1308\n",
      "Data columns (total 12 columns):\n",
      " #   Column       Non-Null Count  Dtype  \n",
      "---  ------       --------------  -----  \n",
      " 0   PassengerId  1309 non-null   int64  \n",
      " 1   Survived     891 non-null    float64\n",
      " 2   Pclass       1309 non-null   int64  \n",
      " 3   Name         1309 non-null   object \n",
      " 4   Sex          1309 non-null   object \n",
      " 5   Age          1046 non-null   float64\n",
      " 6   SibSp        1309 non-null   int64  \n",
      " 7   Parch        1309 non-null   int64  \n",
      " 8   Ticket       1309 non-null   object \n",
      " 9   Fare         1308 non-null   float64\n",
      " 10  Cabin        295 non-null    object \n",
      " 11  Embarked     1307 non-null   object \n",
      "dtypes: float64(3), int64(4), object(5)\n",
      "memory usage: 122.8+ KB\n",
      "********************************************************************************\n"
     ]
    }
   ],
   "source": [
    "# Now lets figure out, is our data complete and is there missing information?\n",
    "# We will do this for both training and testing data\n",
    "\n",
    "print('Info on Training Set:')\n",
    "df_titanic_train.info()\n",
    "\n",
    "print('*'*80)\n",
    "print('Info on Test Set:')\n",
    "df_titanic_test.info()\n",
    "\n",
    "print('*'*80)\n",
    "print('Info on Entire Set:')\n",
    "df_titanic.info()\n",
    "\n",
    "print('*'*80)"
   ]
  },
  {
   "cell_type": "markdown",
   "id": "uniform-conducting",
   "metadata": {
    "pycharm": {
     "name": "#%% md\n"
    }
   },
   "source": [
    "## Fix missing values\n",
    "\n",
    "We can see that we have missing values in a few columns above. Most noticeably in cabin.\n",
    "\n",
    "We also have a few missing values in age.\n",
    "\n",
    "Given what we know about the data set, we can make a few sound assumptions now:\n",
    "1. Ticket should not have any correlation except by random chance to survival.\n",
    "2. PassengerID is simply the default index of the passengers and does not hold meaningful information.\n",
    "3. Names may and or may not be useful. Not 100% certain. We could potentially try to extract titles however\n",
    "that may already be conveyed within the sex column to some extent.\n",
    "4. Cabin column has lots of missing values. Should be dropped and not used to make any predictions.\n",
    "\n",
    "We can choose to do a lot of feature engineering such as some ideas below:\n",
    "\n",
    "* Create age ranges with bins to turn the numerical feature into a categorical one.\n",
    "* Create a fare range feature with bins to turn it into a categorical one as well\n",
    "* Use presence of last names as a feature to see if families or individuals were more likely to survive.\n",
    "\n",
    "I will only be doing the first two here today for time and simplicity's sake.\n"
   ]
  },
  {
   "cell_type": "code",
   "execution_count": 11,
   "id": "christian-danger",
   "metadata": {
    "collapsed": false,
    "jupyter": {
     "outputs_hidden": false
    },
    "pycharm": {
     "name": "#%%\n"
    }
   },
   "outputs": [],
   "source": [
    "# Lets start by dropping un-needed columns/features:\n",
    "df_titanic_train.drop(['Ticket','Cabin', 'PassengerId'], axis=1, inplace=True)\n",
    "df_titanic_test.drop(['Ticket', 'Cabin', 'PassengerId'], axis=1, inplace=True)\n",
    "df_titanic.drop(['Ticket','Cabin', 'PassengerId'], axis=1, inplace=True)"
   ]
  },
  {
   "cell_type": "code",
   "execution_count": 13,
   "id": "laden-calculation",
   "metadata": {
    "collapsed": false,
    "jupyter": {
     "outputs_hidden": false
    },
    "pycharm": {
     "name": "#%%\n"
    }
   },
   "outputs": [
    {
     "name": "stdout",
     "output_type": "stream",
     "text": [
      "Information regarding Training Set - Missing Values:\n",
      "Survived      0\n",
      "Pclass        0\n",
      "Name          0\n",
      "Sex           0\n",
      "Age         177\n",
      "SibSp         0\n",
      "Parch         0\n",
      "Fare          0\n",
      "Embarked      2\n",
      "dtype: int64\n",
      "Information regarding Testing Set - Missing Values:\n",
      "Pclass       0\n",
      "Name         0\n",
      "Sex          0\n",
      "Age         86\n",
      "SibSp        0\n",
      "Parch        0\n",
      "Fare         1\n",
      "Embarked     0\n",
      "dtype: int64\n",
      "Information regarding Entire Set - Missing Values:\n",
      "Survived    418\n",
      "Pclass        0\n",
      "Name          0\n",
      "Sex           0\n",
      "Age         263\n",
      "SibSp         0\n",
      "Parch         0\n",
      "Fare          1\n",
      "Embarked      2\n",
      "dtype: int64\n",
      "****************************************\n"
     ]
    }
   ],
   "source": [
    "# Lets deal with missing values within our columns first:\n",
    "# How many missing values do we have in each column?\n",
    "print(\"Information regarding Training Set - Missing Values:\")\n",
    "print(df_titanic_train.isnull().sum())\n",
    "\n",
    "print(\"Information regarding Testing Set - Missing Values:\")\n",
    "print(df_titanic_test.isnull().sum())\n",
    "\n",
    "print(\"Information regarding Entire Set - Missing Values:\")\n",
    "print(df_titanic.isnull().sum())\n",
    "print('*'*40)\n",
    "# We can see that we have missing values in three columns: Age,Fare and Embarked.\n"
   ]
  },
  {
   "cell_type": "code",
   "execution_count": 14,
   "id": "opposed-password",
   "metadata": {
    "collapsed": false,
    "jupyter": {
     "outputs_hidden": false
    },
    "pycharm": {
     "name": "#%%\n"
    }
   },
   "outputs": [
    {
     "name": "stdout",
     "output_type": "stream",
     "text": [
      "Missing values after imputer application - Training Set:\n",
      "\n",
      "Survived    0\n",
      "Pclass      0\n",
      "Name        0\n",
      "Sex         0\n",
      "Age         0\n",
      "SibSp       0\n",
      "Parch       0\n",
      "Fare        0\n",
      "Embarked    0\n",
      "dtype: int64\n",
      "****************************************\n",
      "Missing values after imputer application - Testing Set:\n",
      "\n",
      "Pclass      0\n",
      "Name        0\n",
      "Sex         0\n",
      "Age         0\n",
      "SibSp       0\n",
      "Parch       0\n",
      "Fare        0\n",
      "Embarked    0\n",
      "dtype: int64\n",
      "****************************************\n",
      "Missing values for entire set:\n",
      "Survived    418\n",
      "Pclass        0\n",
      "Name          0\n",
      "Sex           0\n",
      "Age           0\n",
      "SibSp         0\n",
      "Parch         0\n",
      "Fare          0\n",
      "Embarked      0\n",
      "dtype: int64\n"
     ]
    }
   ],
   "source": [
    "# A sklearn imputer allows us to fill those values based on a preset strategy.\n",
    "# In the case of Embarked, we will use the mode values to fill the missing.\n",
    "# In the case of Age, Fare we will use the median to fill it. Age should be whole numbers...\n",
    "emb_imp = SimpleImputer(strategy='most_frequent')\n",
    "\n",
    "# Train the imputer on the entire data set:\n",
    "df_titanic[['Embarked']] = emb_imp.fit_transform(df_titanic[['Embarked']])\n",
    "\n",
    "# Update columns in test and training DFs:\n",
    "df_titanic_train[['Embarked']] = emb_imp.transform(df_titanic_train[['Embarked']])\n",
    "df_titanic_test[['Embarked']] = emb_imp.transform(df_titanic_test[['Embarked']])\n",
    "\n",
    "# Train a new imputer for fare and age based on median:\n",
    "age_fare_imputer = SimpleImputer(strategy='median')\n",
    "df_titanic[['Age','Fare']] = age_fare_imputer.fit_transform(df_titanic[['Age','Fare']])\n",
    "\n",
    "df_titanic_train[['Age','Fare']] = age_fare_imputer.transform(df_titanic_train[['Age','Fare']])\n",
    "df_titanic_test[['Age','Fare']] = age_fare_imputer.transform(df_titanic_test[['Age','Fare']])\n",
    "\n",
    "# Sanity check to ensure the values have been updated:\n",
    "print('Missing values after imputer application - Training Set:\\n')\n",
    "print(df_titanic_train.isnull().sum())\n",
    "print('*'*40)\n",
    "print('Missing values after imputer application - Testing Set:\\n')\n",
    "print(df_titanic_test.isnull().sum())\n",
    "print('*'*40)\n",
    "print('Missing values for entire set:')\n",
    "print(df_titanic.isnull().sum())"
   ]
  },
  {
   "cell_type": "code",
   "execution_count": 15,
   "id": "sought-education",
   "metadata": {
    "collapsed": false,
    "jupyter": {
     "outputs_hidden": false
    },
    "pycharm": {
     "name": "#%%\n"
    }
   },
   "outputs": [
    {
     "data": {
      "text/plain": [
       "<AxesSubplot:xlabel='Sex', ylabel='count'>"
      ]
     },
     "execution_count": 15,
     "metadata": {},
     "output_type": "execute_result"
    },
    {
     "data": {
      "image/png": "[encoded data removed]",
      "text/plain": [
       "<Figure size 432x288 with 1 Axes>"
      ]
     },
     "metadata": {
      "needs_background": "light"
     },
     "output_type": "display_data"
    }
   ],
   "source": [
    "# How about we get some useful stats about our data set?\n",
    "# We will focus on only the training set since it includes labels!\n",
    "\n",
    "sns.countplot(df_titanic_train['Sex'])"
   ]
  },
  {
   "cell_type": "code",
   "execution_count": 16,
   "id": "elder-intensity",
   "metadata": {
    "collapsed": false,
    "jupyter": {
     "outputs_hidden": false
    },
    "pycharm": {
     "name": "#%%\n"
    }
   },
   "outputs": [
    {
     "data": {
      "text/plain": [
       "<AxesSubplot:xlabel='Survived', ylabel='count'>"
      ]
     },
     "execution_count": 16,
     "metadata": {},
     "output_type": "execute_result"
    },
    {
     "data": {
      "image/png": "[encoded data removed]",
      "text/plain": [
       "<Figure size 432x288 with 1 Axes>"
      ]
     },
     "metadata": {
      "needs_background": "light"
     },
     "output_type": "display_data"
    }
   ],
   "source": [
    "sns.countplot(df_titanic_train['Survived'])"
   ]
  },
  {
   "cell_type": "code",
   "execution_count": 17,
   "id": "sudden-bryan",
   "metadata": {
    "collapsed": false,
    "jupyter": {
     "outputs_hidden": false
    },
    "pycharm": {
     "name": "#%%\n"
    }
   },
   "outputs": [
    {
     "data": {
      "text/plain": [
       "<AxesSubplot:xlabel='Age', ylabel='Count'>"
      ]
     },
     "execution_count": 17,
     "metadata": {},
     "output_type": "execute_result"
    },
    {
     "data": {
      "image/png": "[encoded data removed]",
      "text/plain": [
       "<Figure size 432x288 with 1 Axes>"
      ]
     },
     "metadata": {
      "needs_background": "light"
     },
     "output_type": "display_data"
    }
   ],
   "source": [
    "# We can see that there seems to be some connection between the gender of the passenger and the survival.\n",
    "\n",
    "sns.histplot(df_titanic_train['Age'])"
   ]
  },
  {
   "cell_type": "markdown",
   "id": "remarkable-little",
   "metadata": {},
   "source": [
    "We see that the number of survivors seems very close to the number of female passengers.\n",
    "\n",
    "Let's check if there is some kind of pattern:"
   ]
  },
  {
   "cell_type": "code",
   "execution_count": 18,
   "id": "chubby-ladder",
   "metadata": {
    "collapsed": false,
    "jupyter": {
     "outputs_hidden": false
    },
    "pycharm": {
     "name": "#%%\n"
    }
   },
   "outputs": [
    {
     "name": "stdout",
     "output_type": "stream",
     "text": [
      "Number of Woman On Board: 314\n",
      "Number of Women Who Survived: 233/\n",
      "Woman Survived Ratio: 0.7420382165605095\n",
      "\n",
      "\n",
      "\n",
      "Number of Men On Board: 577\n",
      "Number of Men Who Survived: 109/\n",
      "Woman Survived Ratio: 0.18890814558058924\n",
      "\n",
      "\n",
      "General Survival Rate: 0.3838383838383838\n"
     ]
    }
   ],
   "source": [
    "women_survivors = sum(df_titanic_train.loc[df_titanic_train.Sex == 'female']['Survived'])\n",
    "women_num = len(df_titanic_train.loc[df_titanic_train.Sex == 'female'])\n",
    "\n",
    "man_survivors = sum(df_titanic_train.loc[df_titanic_train.Sex == 'male']['Survived'])\n",
    "man_num = len(df_titanic_train.loc[df_titanic_train.Sex == 'male'])\n",
    "\n",
    "print(f'Number of Woman On Board: {women_num}\\nNumber of Women Who Survived: {women_survivors}/'\n",
    "      f'\\nWoman Survived Ratio: {women_survivors/women_num}\\n\\n\\n')\n",
    "\n",
    "\n",
    "print(f'Number of Men On Board: {man_num}\\nNumber of Men Who Survived: {man_survivors}/'\n",
    "      f'\\nWoman Survived Ratio: {man_survivors/man_num}\\n\\n')\n",
    "\n",
    "print(f'General Survival Rate: {sum(df_titanic_train.Survived)/len(df_titanic_train)}')"
   ]
  },
  {
   "cell_type": "markdown",
   "id": "careful-society",
   "metadata": {
    "pycharm": {
     "name": "#%% md\n"
    }
   },
   "source": [
    "## Some Patterns:\n",
    "\n",
    "We can already see that about 70% of the woman on the ship survived. This sets up a baseline for us.\n",
    "We can be reasonably certain that if a given passenger was a woman, she was likely to survive. And\n",
    "vice versa for woman.\n",
    "\n",
    "Our machine learning model should atleast be better than this rather simple guess?"
   ]
  },
  {
   "cell_type": "markdown",
   "id": "clean-hamburg",
   "metadata": {},
   "source": [
    "# Preprocessing\n",
    "\n",
    "Preprocessing can take lots of forms and steps! Some of them include scaling, normalizing and/or feature engineering. \n",
    "\n",
    "For this project we will do some basic feature engineering to show you the concepts. \n",
    "\n",
    "We also want to convert our categorical features either into a dummy variable encoding,\n",
    "One hot encoding, or ordinal encoding\n",
    "ML algorithms like numbers, not words.\n",
    "\n",
    "For more info about this: https://machinelearningmastery.com/one-hot-encoding-for-categorical-data/"
   ]
  },
  {
   "cell_type": "markdown",
   "id": "invisible-rental",
   "metadata": {},
   "source": [
    "## Encoding Categorical Variables"
   ]
  },
  {
   "cell_type": "code",
   "execution_count": 19,
   "id": "demographic-causing",
   "metadata": {
    "collapsed": false,
    "jupyter": {
     "outputs_hidden": false
    },
    "pycharm": {
     "name": "#%%\n"
    }
   },
   "outputs": [],
   "source": [
    "# Ordinal encoding for sex and embarked. Ordinal encoding turns strings to 0,1,2 etc. This is only useful when you have\n",
    "# a few categorical variable values that keep occurring.\n",
    "emb_sex_ordinal_encoder = OrdinalEncoder()\n",
    "\n",
    "# fit it on the entire data set and transform each set as well.\n",
    "df_titanic[['Sex','Embarked']] = emb_sex_ordinal_encoder.fit_transform(df_titanic[['Sex','Embarked']])\n",
    "df_titanic_test[['Sex','Embarked']] = emb_sex_ordinal_encoder.transform(df_titanic_test[['Sex','Embarked']])\n",
    "df_titanic_train[['Sex','Embarked']] = emb_sex_ordinal_encoder.transform(df_titanic_train[['Sex','Embarked']])"
   ]
  },
  {
   "cell_type": "markdown",
   "id": "comparative-gathering",
   "metadata": {
    "pycharm": {
     "name": "#%% md\n"
    }
   },
   "source": [
    "We have now filled in missing values and converted some of our categorical variables into a numerical form.\n",
    "\n",
    "The next step is understanding our data to see if further feature engineering maybe useful?\n",
    "Lets begin with age and fare. Since this is a relatively small data set, it might be useful to group those values\n",
    "into bins that can then be used as categorical variables.\n",
    "\n",
    "The logic behind this is, are certain age groups more likely to survive such as infants vs elderly? Are rich people\n",
    "who may have paid a higher fare more likely to have survived?"
   ]
  },
  {
   "cell_type": "markdown",
   "id": "selected-passing",
   "metadata": {},
   "source": [
    "## Feature Engineering for Further Insights!"
   ]
  },
  {
   "cell_type": "code",
   "execution_count": 21,
   "id": "mineral-physiology",
   "metadata": {
    "collapsed": false,
    "jupyter": {
     "outputs_hidden": false
    },
    "pycharm": {
     "name": "#%%\n"
    }
   },
   "outputs": [
    {
     "data": {
      "image/png": "[encoded data removed]",
      "text/plain": [
       "<Figure size 432x288 with 1 Axes>"
      ]
     },
     "metadata": {
      "needs_background": "light"
     },
     "output_type": "display_data"
    }
   ],
   "source": [
    "# Lets see a distribution of ages in our data set:\n",
    "sns.histplot(df_titanic[['Age']])\n",
    "\n",
    "# Lets divide up the age groups into bins:\n",
    "age_categorical, bins = pd.cut(df_titanic.Age, bins=4, labels=False, retbins=True)"
   ]
  },
  {
   "cell_type": "code",
   "execution_count": 22,
   "id": "twenty-tobago",
   "metadata": {
    "collapsed": false,
    "jupyter": {
     "outputs_hidden": false
    },
    "pycharm": {
     "name": "#%%\n"
    }
   },
   "outputs": [
    {
     "name": "stdout",
     "output_type": "stream",
     "text": [
      "Categorical Age Counts:\n",
      "1    834\n",
      "0    248\n",
      "2    194\n",
      "3     33\n",
      "Name: Age, dtype: int64\n"
     ]
    }
   ],
   "source": [
    "print(f'Categorical Age Counts:\\n{age_categorical.value_counts()}')\n",
    "\n",
    "# use the bins we created to create new columns in each of the dfs to add a new column:\n",
    "for df in [df_titanic,df_titanic_train,df_titanic_test]:\n",
    "    df[['Age_Cat']] = pd.cut(df.Age, bins=bins, labels=False, include_lowest=True,)\n"
   ]
  },
  {
   "cell_type": "code",
   "execution_count": 24,
   "id": "separate-latitude",
   "metadata": {
    "collapsed": false,
    "jupyter": {
     "outputs_hidden": false
    },
    "pycharm": {
     "name": "#%%\n"
    }
   },
   "outputs": [
    {
     "name": "stdout",
     "output_type": "stream",
     "text": [
      "              Fare\n",
      "count  1309.000000\n",
      "mean     33.281086\n",
      "std      51.741500\n",
      "min       0.000000\n",
      "25%       7.895800\n",
      "50%      14.454200\n",
      "75%      31.275000\n",
      "max     512.329200\n"
     ]
    },
    {
     "data": {
      "image/png": "[encoded data removed]",
      "text/plain": [
       "<Figure size 432x288 with 1 Axes>"
      ]
     },
     "metadata": {
      "needs_background": "light"
     },
     "output_type": "display_data"
    }
   ],
   "source": [
    "sns.histplot(df_titanic[['Fare']])\n",
    "print(df_titanic[['Fare']].describe())\n",
    "\n",
    "# We can see that we have a wide range of values when it comes to fares. Lets divide them up into bins but we should\n",
    "# do this with manually defined bins based on quantiles\n",
    "\n",
    "bins_fare = [0.0,8.0, 15.0, 40, 600]\n",
    "\n",
    "for df in [df_titanic, df_titanic_train, df_titanic_test]:\n",
    "    df['Fare_Cat'] = pd.cut(df.Fare, bins=bins_fare, labels=False, include_lowest=True)"
   ]
  },
  {
   "cell_type": "markdown",
   "id": "intensive-routine",
   "metadata": {
    "pycharm": {
     "name": "#%% md\n"
    }
   },
   "source": [
    "We are alright for some basic feature engineering now. Lets try some algorithms to see how well they\n",
    "perform. We will use a strategy called Stratified K Fold.\n",
    "\n",
    "Read more on sklearn's website:\n",
    "https://scikit-learn.org/stable/modules/generated/sklearn.model_selection.StratifiedKFold.html"
   ]
  },
  {
   "cell_type": "code",
   "execution_count": 25,
   "id": "affiliated-article",
   "metadata": {
    "collapsed": false,
    "jupyter": {
     "outputs_hidden": false
    },
    "pycharm": {
     "name": "#%%\n"
    }
   },
   "outputs": [
    {
     "name": "stdout",
     "output_type": "stream",
     "text": [
      "X Shape: (891, 7)\n",
      "y shape: (891, 1)\n"
     ]
    }
   ],
   "source": [
    "# Split data into labels and features:\n",
    "X = df_titanic_train[['Pclass', 'Sex','SibSp','Parch','Embarked', 'Age_Cat','Fare_Cat']]\n",
    "y = df_titanic_train[['Survived']]\n",
    "\n",
    "print(f'X Shape: {X.shape}\\ny shape: {y.shape}')\n",
    "assert(len(X) == len(y))"
   ]
  },
  {
   "cell_type": "code",
   "execution_count": 26,
   "id": "running-picnic",
   "metadata": {
    "collapsed": false,
    "jupyter": {
     "outputs_hidden": false
    },
    "pycharm": {
     "name": "#%%from sklearn.metrics import plot_roc_curve, precision_recall_curve\n"
    }
   },
   "outputs": [],
   "source": [
    "# We have 7 features we will be using to train our models\n",
    "\n",
    "\n",
    "# By default cross_validate uses StratifiedKFold\n",
    "# We will start with a simple linear model using Logistic Regression to see how well it does on our given features\n",
    "\n",
    "X_train, X_test, y_train, y_test = train_test_split(X, y, test_size=0.2, random_state=42)"
   ]
  },
  {
   "cell_type": "code",
   "execution_count": 27,
   "id": "stopped-blocking",
   "metadata": {
    "collapsed": false,
    "jupyter": {
     "outputs_hidden": false
    },
    "pycharm": {
     "name": "#%%\n"
    }
   },
   "outputs": [
    {
     "name": "stdout",
     "output_type": "stream",
     "text": [
      "              precision    recall  f1-score   support\n",
      "\n",
      "           0       0.82      0.84      0.83       105\n",
      "           1       0.76      0.74      0.75        74\n",
      "\n",
      "    accuracy                           0.80       179\n",
      "   macro avg       0.79      0.79      0.79       179\n",
      "weighted avg       0.80      0.80      0.80       179\n",
      "\n"
     ]
    }
   ],
   "source": [
    "lr_model = LogisticRegression()\n",
    "lr_model.fit(X_train, y_train)\n",
    "\n",
    "predictions = lr_model.predict(X_test)\n",
    "\n",
    "print(classification_report(y_test, predictions))"
   ]
  },
  {
   "cell_type": "markdown",
   "id": "colonial-nepal",
   "metadata": {
    "pycharm": {
     "name": "#%% md\n"
    }
   },
   "source": [
    "We can see that all of our work so far has been effective, and our dataset after wrangling works! Let's run a few tests\n",
    "to see if an algorithm is better than another with just the base parameters."
   ]
  },
  {
   "cell_type": "code",
   "execution_count": 28,
   "id": "cosmetic-facing",
   "metadata": {
    "collapsed": false,
    "jupyter": {
     "outputs_hidden": false
    },
    "pycharm": {
     "name": "#%%\n"
    }
   },
   "outputs": [],
   "source": [
    "scores_dict = {}\n",
    "\n",
    "model_dict = {\n",
    "    'LR':LogisticRegression(),\n",
    "    'RFC':RandomForestClassifier(),\n",
    "    'KNN':KNeighborsClassifier(),\n",
    "    'DTC':DecisionTreeClassifier(),\n",
    "    'MLP':MLPClassifier(),\n",
    "}\n",
    "\n",
    "for key,val in model_dict.items():\n",
    "    scores_dict[key] = cross_val_score(val, X, y, cv=5, n_jobs=-1, scoring='accuracy')"
   ]
  },
  {
   "cell_type": "code",
   "execution_count": 29,
   "id": "visible-validation",
   "metadata": {
    "collapsed": false,
    "jupyter": {
     "outputs_hidden": false
    },
    "pycharm": {
     "name": "#%%\n"
    }
   },
   "outputs": [],
   "source": [
    "# Create a DF from our scores dictionary.\n",
    "scores_df = pd.DataFrame(scores_dict)"
   ]
  },
  {
   "cell_type": "code",
   "execution_count": 31,
   "id": "contrary-productivity",
   "metadata": {},
   "outputs": [
    {
     "data": {
      "text/html": [
       "<div>\n",
       "<style scoped>\n",
       "    .dataframe tbody tr th:only-of-type {\n",
       "        vertical-align: middle;\n",
       "    }\n",
       "\n",
       "    .dataframe tbody tr th {\n",
       "        vertical-align: top;\n",
       "    }\n",
       "\n",
       "    .dataframe thead th {\n",
       "        text-align: right;\n",
       "    }\n",
       "</style>\n",
       "<table border=\"1\" class=\"dataframe\">\n",
       "  <thead>\n",
       "    <tr style=\"text-align: right;\">\n",
       "      <th></th>\n",
       "      <th>LR</th>\n",
       "      <th>RFC</th>\n",
       "      <th>KNN</th>\n",
       "      <th>DTC</th>\n",
       "      <th>MLP</th>\n",
       "    </tr>\n",
       "  </thead>\n",
       "  <tbody>\n",
       "    <tr>\n",
       "      <th>0</th>\n",
       "      <td>0.748603</td>\n",
       "      <td>0.787709</td>\n",
       "      <td>0.748603</td>\n",
       "      <td>0.776536</td>\n",
       "      <td>0.759777</td>\n",
       "    </tr>\n",
       "    <tr>\n",
       "      <th>1</th>\n",
       "      <td>0.797753</td>\n",
       "      <td>0.780899</td>\n",
       "      <td>0.792135</td>\n",
       "      <td>0.780899</td>\n",
       "      <td>0.831461</td>\n",
       "    </tr>\n",
       "    <tr>\n",
       "      <th>2</th>\n",
       "      <td>0.780899</td>\n",
       "      <td>0.859551</td>\n",
       "      <td>0.820225</td>\n",
       "      <td>0.859551</td>\n",
       "      <td>0.797753</td>\n",
       "    </tr>\n",
       "    <tr>\n",
       "      <th>3</th>\n",
       "      <td>0.769663</td>\n",
       "      <td>0.831461</td>\n",
       "      <td>0.803371</td>\n",
       "      <td>0.825843</td>\n",
       "      <td>0.797753</td>\n",
       "    </tr>\n",
       "    <tr>\n",
       "      <th>4</th>\n",
       "      <td>0.814607</td>\n",
       "      <td>0.825843</td>\n",
       "      <td>0.814607</td>\n",
       "      <td>0.814607</td>\n",
       "      <td>0.814607</td>\n",
       "    </tr>\n",
       "  </tbody>\n",
       "</table>\n",
       "</div>"
      ],
      "text/plain": [
       "         LR       RFC       KNN       DTC       MLP\n",
       "0  0.748603  0.787709  0.748603  0.776536  0.759777\n",
       "1  0.797753  0.780899  0.792135  0.780899  0.831461\n",
       "2  0.780899  0.859551  0.820225  0.859551  0.797753\n",
       "3  0.769663  0.831461  0.803371  0.825843  0.797753\n",
       "4  0.814607  0.825843  0.814607  0.814607  0.814607"
      ]
     },
     "execution_count": 31,
     "metadata": {},
     "output_type": "execute_result"
    }
   ],
   "source": [
    "scores_df"
   ]
  },
  {
   "cell_type": "code",
   "execution_count": 30,
   "id": "prepared-thriller",
   "metadata": {
    "collapsed": false,
    "jupyter": {
     "outputs_hidden": false
    },
    "pycharm": {
     "name": "#%%\n"
    }
   },
   "outputs": [
    {
     "name": "stdout",
     "output_type": "stream",
     "text": [
      "LR: 0.78 ± 0.03\n",
      "RFC: 0.82 ± 0.03\n",
      "KNN: 0.80 ± 0.03\n",
      "DTC: 0.81 ± 0.03\n",
      "MLP: 0.80 ± 0.03\n"
     ]
    }
   ],
   "source": [
    "# Lets the SD and Mean of each of the columns to compare the score more effectively!\n",
    "for mean, sd, clf_name in zip(list(scores_df.mean()), list(scores_df.std()), list(scores_df.columns)):\n",
    "    print(f'{clf_name}: {mean:.2f} \\u00B1 {sd:.2f}')\n",
    "\n",
    "# We can see that  there isn't a lot of difference in the performance of each of teh classifiers.\n",
    "# Part of this is due to a lack of extensive feature engineering and the other is due to lack of hyper parameter\n",
    "# optimization."
   ]
  },
  {
   "cell_type": "code",
   "execution_count": 32,
   "id": "overall-equivalent",
   "metadata": {
    "collapsed": false,
    "jupyter": {
     "outputs_hidden": false
    },
    "pycharm": {
     "name": "#%%\n"
    }
   },
   "outputs": [
    {
     "data": {
      "image/png": "[encoded data removed]",
      "text/plain": [
       "<Figure size 1800x1440 with 1 Axes>"
      ]
     },
     "metadata": {
      "needs_background": "light"
     },
     "output_type": "display_data"
    }
   ],
   "source": [
    "# Visualize some of our models:\n",
    "dtm = DecisionTreeClassifier(max_depth=4)\n",
    "dtm.fit(X, y)\n",
    "\n",
    "\n",
    "\n",
    "fig = plt.figure(figsize=(25,20))\n",
    "tree_fig = plot_tree(dtm,\n",
    "              feature_names=X.columns,\n",
    "              class_names=['Not Survived', 'Survived'],\n",
    "              filled=True)\n",
    "plt.tight_layout()\n",
    "plt.savefig('Tree.png')"
   ]
  },
  {
   "cell_type": "markdown",
   "id": "proper-president",
   "metadata": {
    "pycharm": {
     "name": "#%% md\n"
    }
   },
   "source": [
    "## What is Overfitting?\n",
    "\n",
    "This is an important concept to understand and part of why we use a cross-validation approach when testing our models.\n",
    "\n",
    "Overfitting happens when we try to get the model to fit 'too perfectly' to our data set. This can result from prolonged\n",
    "training, overly complex models, small non-generalized datasets etc.\n",
    "\n",
    "It is usually evident by an increasing training score, but a decreasing validation score."
   ]
  },
  {
   "cell_type": "code",
   "execution_count": 33,
   "id": "understanding-lewis",
   "metadata": {
    "collapsed": false,
    "jupyter": {
     "outputs_hidden": false
    },
    "pycharm": {
     "name": "#%%\n"
    }
   },
   "outputs": [
    {
     "data": {
      "text/plain": [
       "<module 'matplotlib.pyplot' from '/home/sharyarmemon/anaconda3/envs/gesar-linux/lib/python3.8/site-packages/matplotlib/pyplot.py'>"
      ]
     },
     "execution_count": 33,
     "metadata": {},
     "output_type": "execute_result"
    },
    {
     "data": {
      "image/png": "[encoded data removed]",
      "text/plain": [
       "<Figure size 720x1080 with 3 Axes>"
      ]
     },
     "metadata": {
      "needs_background": "light"
     },
     "output_type": "display_data"
    }
   ],
   "source": [
    "from plot_helper import plot_learning_curve\n",
    "fig_, ax_ = plt.subplots(3,1, figsize=(10,15))\n",
    "estimator = MLPClassifier(max_iter=400, alpha=0.00001)\n",
    "plot_learning_curve(estimator, 'MLP Learning Curve', X, y, axes=ax_)"
   ]
  },
  {
   "cell_type": "markdown",
   "id": "proof-fields",
   "metadata": {
    "pycharm": {
     "name": "#%% md\n"
    }
   },
   "source": [
    "## Utility Functions in Sklearn\n",
    "\n",
    "Sklearn is full of amazing functionality!\n",
    "One of my favorite part is the ability to test the performance of our models very extensively!\n",
    "\n",
    "Lets look at a few utility functions that can come in handy when building your models:\n",
    "\n",
    "* Confusion matrix\n",
    "* Classification report\n",
    "* Roc-auc curves"
   ]
  },
  {
   "cell_type": "code",
   "execution_count": 34,
   "id": "exact-lesbian",
   "metadata": {
    "collapsed": false,
    "jupyter": {
     "outputs_hidden": false
    },
    "pycharm": {
     "name": "#%%\n"
    }
   },
   "outputs": [
    {
     "name": "stdout",
     "output_type": "stream",
     "text": [
      "              precision    recall  f1-score   support\n",
      "\n",
      "           0       0.84      0.88      0.86       105\n",
      "           1       0.81      0.77      0.79        74\n",
      "\n",
      "    accuracy                           0.83       179\n",
      "   macro avg       0.83      0.82      0.83       179\n",
      "weighted avg       0.83      0.83      0.83       179\n",
      "\n"
     ]
    },
    {
     "data": {
      "image/png": "[encoded data removed]",
      "text/plain": [
       "<Figure size 432x288 with 2 Axes>"
      ]
     },
     "metadata": {
      "needs_background": "light"
     },
     "output_type": "display_data"
    }
   ],
   "source": [
    "# We will use the RFC to demonstrate this:\n",
    "rfc_model = RandomForestClassifier()\n",
    "rfc_model.fit(X_train, y_train)\n",
    "rfc_predictions = rfc_model.predict(X_test)\n",
    "\n",
    "cf_matrix = confusion_matrix(y_test, rfc_predictions)\n",
    "sns.heatmap(cf_matrix/np.sum(cf_matrix), annot=True,\n",
    "            fmt='.2%', cmap='Blues')\n",
    "\n",
    "print(classification_report(y_test, rfc_predictions))\n"
   ]
  },
  {
   "cell_type": "code",
   "execution_count": 35,
   "id": "spare-beaver",
   "metadata": {
    "collapsed": false,
    "jupyter": {
     "outputs_hidden": false
    },
    "pycharm": {
     "name": "#%%\n"
    }
   },
   "outputs": [
    {
     "data": {
      "text/plain": [
       "<sklearn.metrics._plot.roc_curve.RocCurveDisplay at 0x7f57471f8190>"
      ]
     },
     "execution_count": 35,
     "metadata": {},
     "output_type": "execute_result"
    },
    {
     "data": {
      "image/png": "[encoded data removed]",
      "text/plain": [
       "<Figure size 432x288 with 1 Axes>"
      ]
     },
     "metadata": {
      "needs_background": "light"
     },
     "output_type": "display_data"
    }
   ],
   "source": [
    "plot_roc_curve(rfc_model, X_test, y_test)"
   ]
  },
  {
   "cell_type": "code",
   "execution_count": 36,
   "id": "atmospheric-sheriff",
   "metadata": {
    "collapsed": false,
    "jupyter": {
     "outputs_hidden": false
    },
    "pycharm": {
     "name": "#%%\n"
    }
   },
   "outputs": [
    {
     "data": {
      "text/plain": [
       "<sklearn.metrics._plot.precision_recall_curve.PrecisionRecallDisplay at 0x7f57440dd460>"
      ]
     },
     "execution_count": 36,
     "metadata": {},
     "output_type": "execute_result"
    },
    {
     "data": {
      "image/png": "[encoded data removed]",
      "text/plain": [
       "<Figure size 432x288 with 1 Axes>"
      ]
     },
     "metadata": {
      "needs_background": "light"
     },
     "output_type": "display_data"
    }
   ],
   "source": [
    "plot_precision_recall_curve(rfc_model, X_test, y_test)"
   ]
  },
  {
   "cell_type": "code",
   "execution_count": null,
   "id": "choice-emission",
   "metadata": {},
   "outputs": [],
   "source": [
    "## Did our feature engineering actually work?"
   ]
  },
  {
   "cell_type": "code",
   "execution_count": 37,
   "id": "juvenile-wayne",
   "metadata": {},
   "outputs": [
    {
     "name": "stdout",
     "output_type": "stream",
     "text": [
      "X Shape: (891, 7)\n",
      "y shape: (891, 1)\n"
     ]
    }
   ],
   "source": [
    "# Split data into labels and features:\n",
    "X_uneng = df_titanic_train[['Pclass', 'Sex','SibSp','Parch','Embarked', 'Age', 'Fare']]\n",
    "y = df_titanic_train[['Survived']]\n",
    "\n",
    "print(f'X Shape: {X.shape}\\ny shape: {y.shape}')\n",
    "assert(len(X) == len(y))\n",
    "\n",
    "scores_dict = {}\n",
    "\n",
    "model_dict = {\n",
    "    'LR':LogisticRegression(),\n",
    "    'RFC':RandomForestClassifier(),\n",
    "    'KNN':KNeighborsClassifier(),\n",
    "    'DTC':DecisionTreeClassifier(),\n",
    "    'MLP':MLPClassifier(),\n",
    "}\n",
    "\n",
    "for key,val in model_dict.items():\n",
    "    scores_dict[key] = cross_val_score(val, X_uneng, y, cv=5, n_jobs=-1, scoring='accuracy')"
   ]
  },
  {
   "cell_type": "code",
   "execution_count": 38,
   "id": "creative-limit",
   "metadata": {},
   "outputs": [],
   "source": [
    "# Create a DF from our scores dictionary.\n",
    "scores_df = pd.DataFrame(scores_dict)"
   ]
  },
  {
   "cell_type": "code",
   "execution_count": 39,
   "id": "normal-yugoslavia",
   "metadata": {},
   "outputs": [
    {
     "data": {
      "text/html": [
       "<div>\n",
       "<style scoped>\n",
       "    .dataframe tbody tr th:only-of-type {\n",
       "        vertical-align: middle;\n",
       "    }\n",
       "\n",
       "    .dataframe tbody tr th {\n",
       "        vertical-align: top;\n",
       "    }\n",
       "\n",
       "    .dataframe thead th {\n",
       "        text-align: right;\n",
       "    }\n",
       "</style>\n",
       "<table border=\"1\" class=\"dataframe\">\n",
       "  <thead>\n",
       "    <tr style=\"text-align: right;\">\n",
       "      <th></th>\n",
       "      <th>LR</th>\n",
       "      <th>RFC</th>\n",
       "      <th>KNN</th>\n",
       "      <th>DTC</th>\n",
       "      <th>MLP</th>\n",
       "    </tr>\n",
       "  </thead>\n",
       "  <tbody>\n",
       "    <tr>\n",
       "      <th>0</th>\n",
       "      <td>0.787709</td>\n",
       "      <td>0.782123</td>\n",
       "      <td>0.659218</td>\n",
       "      <td>0.754190</td>\n",
       "      <td>0.776536</td>\n",
       "    </tr>\n",
       "    <tr>\n",
       "      <th>1</th>\n",
       "      <td>0.786517</td>\n",
       "      <td>0.814607</td>\n",
       "      <td>0.668539</td>\n",
       "      <td>0.780899</td>\n",
       "      <td>0.808989</td>\n",
       "    </tr>\n",
       "    <tr>\n",
       "      <th>2</th>\n",
       "      <td>0.780899</td>\n",
       "      <td>0.859551</td>\n",
       "      <td>0.696629</td>\n",
       "      <td>0.792135</td>\n",
       "      <td>0.758427</td>\n",
       "    </tr>\n",
       "    <tr>\n",
       "      <th>3</th>\n",
       "      <td>NaN</td>\n",
       "      <td>0.780899</td>\n",
       "      <td>0.735955</td>\n",
       "      <td>0.752809</td>\n",
       "      <td>0.780899</td>\n",
       "    </tr>\n",
       "    <tr>\n",
       "      <th>4</th>\n",
       "      <td>0.820225</td>\n",
       "      <td>0.831461</td>\n",
       "      <td>0.713483</td>\n",
       "      <td>0.803371</td>\n",
       "      <td>0.831461</td>\n",
       "    </tr>\n",
       "  </tbody>\n",
       "</table>\n",
       "</div>"
      ],
      "text/plain": [
       "         LR       RFC       KNN       DTC       MLP\n",
       "0  0.787709  0.782123  0.659218  0.754190  0.776536\n",
       "1  0.786517  0.814607  0.668539  0.780899  0.808989\n",
       "2  0.780899  0.859551  0.696629  0.792135  0.758427\n",
       "3       NaN  0.780899  0.735955  0.752809  0.780899\n",
       "4  0.820225  0.831461  0.713483  0.803371  0.831461"
      ]
     },
     "execution_count": 39,
     "metadata": {},
     "output_type": "execute_result"
    }
   ],
   "source": [
    "scores_df"
   ]
  },
  {
   "cell_type": "code",
   "execution_count": null,
   "id": "neither-painting",
   "metadata": {},
   "outputs": [],
   "source": [
    "scores_dict"
   ]
  },
  {
   "cell_type": "code",
   "execution_count": 40,
   "id": "painful-number",
   "metadata": {},
   "outputs": [
    {
     "name": "stdout",
     "output_type": "stream",
     "text": [
      "LR: 0.79 ± 0.02\n",
      "RFC: 0.81 ± 0.03\n",
      "KNN: 0.69 ± 0.03\n",
      "DTC: 0.78 ± 0.02\n",
      "MLP: 0.79 ± 0.03\n"
     ]
    }
   ],
   "source": [
    "# Lets the SD and Mean of each of the columns to compare the score more effectively!\n",
    "for mean, sd, clf_name in zip(list(scores_df.mean()), list(scores_df.std()), list(scores_df.columns)):\n",
    "    print(f'{clf_name}: {mean:.2f} \\u00B1 {sd:.2f}')"
   ]
  },
  {
   "cell_type": "code",
   "execution_count": null,
   "id": "reflected-quest",
   "metadata": {},
   "outputs": [],
   "source": [
    "# We can see that our feature engineering generally helped achieve better results!"
   ]
  }
 ],
 "metadata": {
  "kernelspec": {
   "display_name": "PyCharm (learn_scikit_project)",
   "language": "python",
   "name": "pycharm-884818bc"
  },
  "language_info": {
   "codemirror_mode": {
    "name": "ipython",
    "version": 3
   },
   "file_extension": ".py",
   "mimetype": "text/x-python",
   "name": "python",
   "nbconvert_exporter": "python",
   "pygments_lexer": "ipython3",
   "version": "3.8.5"
  }
 },
 "nbformat": 4,
 "nbformat_minor": 5
}
